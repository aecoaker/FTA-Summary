{
  "nbformat": 4,
  "nbformat_minor": 0,
  "metadata": {
    "colab": {
      "provenance": [],
      "authorship_tag": "ABX9TyP9IYV2Z6fzs+4anuzP793f",
      "include_colab_link": true
    },
    "kernelspec": {
      "name": "python3",
      "display_name": "Python 3"
    },
    "language_info": {
      "name": "python"
    },
    "widgets": {
      "application/vnd.jupyter.widget-state+json": {
        "4672abc5300f4d44acbebcde40af9f75": {
          "model_module": "@jupyter-widgets/controls",
          "model_name": "HBoxModel",
          "model_module_version": "1.5.0",
          "state": {
            "_dom_classes": [],
            "_model_module": "@jupyter-widgets/controls",
            "_model_module_version": "1.5.0",
            "_model_name": "HBoxModel",
            "_view_count": null,
            "_view_module": "@jupyter-widgets/controls",
            "_view_module_version": "1.5.0",
            "_view_name": "HBoxView",
            "box_style": "",
            "children": [
              "IPY_MODEL_363f52668a4a4a49a3cc9feefbc8a942",
              "IPY_MODEL_0ee0200699b04b74a39135a1b70d7d62",
              "IPY_MODEL_e6a66470b27d41679004e1123d10ea10"
            ],
            "layout": "IPY_MODEL_2b9f44a2242b47cc8dbbac04661a4c85"
          }
        },
        "363f52668a4a4a49a3cc9feefbc8a942": {
          "model_module": "@jupyter-widgets/controls",
          "model_name": "HTMLModel",
          "model_module_version": "1.5.0",
          "state": {
            "_dom_classes": [],
            "_model_module": "@jupyter-widgets/controls",
            "_model_module_version": "1.5.0",
            "_model_name": "HTMLModel",
            "_view_count": null,
            "_view_module": "@jupyter-widgets/controls",
            "_view_module_version": "1.5.0",
            "_view_name": "HTMLView",
            "description": "",
            "description_tooltip": null,
            "layout": "IPY_MODEL_c0b26ba7faa545a0b55d2c10bfa84390",
            "placeholder": "​",
            "style": "IPY_MODEL_a93e31d080e14962aee40321951d29b2",
            "value": "Downloading (…)olve/main/vocab.json: 100%"
          }
        },
        "0ee0200699b04b74a39135a1b70d7d62": {
          "model_module": "@jupyter-widgets/controls",
          "model_name": "FloatProgressModel",
          "model_module_version": "1.5.0",
          "state": {
            "_dom_classes": [],
            "_model_module": "@jupyter-widgets/controls",
            "_model_module_version": "1.5.0",
            "_model_name": "FloatProgressModel",
            "_view_count": null,
            "_view_module": "@jupyter-widgets/controls",
            "_view_module_version": "1.5.0",
            "_view_name": "ProgressView",
            "bar_style": "success",
            "description": "",
            "description_tooltip": null,
            "layout": "IPY_MODEL_b6b67e8562e54adca8f13d481f234483",
            "max": 898823,
            "min": 0,
            "orientation": "horizontal",
            "style": "IPY_MODEL_b792a645738d4676be6351932c47d8ad",
            "value": 898823
          }
        },
        "e6a66470b27d41679004e1123d10ea10": {
          "model_module": "@jupyter-widgets/controls",
          "model_name": "HTMLModel",
          "model_module_version": "1.5.0",
          "state": {
            "_dom_classes": [],
            "_model_module": "@jupyter-widgets/controls",
            "_model_module_version": "1.5.0",
            "_model_name": "HTMLModel",
            "_view_count": null,
            "_view_module": "@jupyter-widgets/controls",
            "_view_module_version": "1.5.0",
            "_view_name": "HTMLView",
            "description": "",
            "description_tooltip": null,
            "layout": "IPY_MODEL_054529a52af74f08a649d8438b3e85e5",
            "placeholder": "​",
            "style": "IPY_MODEL_89ec6c680b8d4629b72ef472d5230e71",
            "value": " 899k/899k [00:00&lt;00:00, 15.4MB/s]"
          }
        },
        "2b9f44a2242b47cc8dbbac04661a4c85": {
          "model_module": "@jupyter-widgets/base",
          "model_name": "LayoutModel",
          "model_module_version": "1.2.0",
          "state": {
            "_model_module": "@jupyter-widgets/base",
            "_model_module_version": "1.2.0",
            "_model_name": "LayoutModel",
            "_view_count": null,
            "_view_module": "@jupyter-widgets/base",
            "_view_module_version": "1.2.0",
            "_view_name": "LayoutView",
            "align_content": null,
            "align_items": null,
            "align_self": null,
            "border": null,
            "bottom": null,
            "display": null,
            "flex": null,
            "flex_flow": null,
            "grid_area": null,
            "grid_auto_columns": null,
            "grid_auto_flow": null,
            "grid_auto_rows": null,
            "grid_column": null,
            "grid_gap": null,
            "grid_row": null,
            "grid_template_areas": null,
            "grid_template_columns": null,
            "grid_template_rows": null,
            "height": null,
            "justify_content": null,
            "justify_items": null,
            "left": null,
            "margin": null,
            "max_height": null,
            "max_width": null,
            "min_height": null,
            "min_width": null,
            "object_fit": null,
            "object_position": null,
            "order": null,
            "overflow": null,
            "overflow_x": null,
            "overflow_y": null,
            "padding": null,
            "right": null,
            "top": null,
            "visibility": null,
            "width": null
          }
        },
        "c0b26ba7faa545a0b55d2c10bfa84390": {
          "model_module": "@jupyter-widgets/base",
          "model_name": "LayoutModel",
          "model_module_version": "1.2.0",
          "state": {
            "_model_module": "@jupyter-widgets/base",
            "_model_module_version": "1.2.0",
            "_model_name": "LayoutModel",
            "_view_count": null,
            "_view_module": "@jupyter-widgets/base",
            "_view_module_version": "1.2.0",
            "_view_name": "LayoutView",
            "align_content": null,
            "align_items": null,
            "align_self": null,
            "border": null,
            "bottom": null,
            "display": null,
            "flex": null,
            "flex_flow": null,
            "grid_area": null,
            "grid_auto_columns": null,
            "grid_auto_flow": null,
            "grid_auto_rows": null,
            "grid_column": null,
            "grid_gap": null,
            "grid_row": null,
            "grid_template_areas": null,
            "grid_template_columns": null,
            "grid_template_rows": null,
            "height": null,
            "justify_content": null,
            "justify_items": null,
            "left": null,
            "margin": null,
            "max_height": null,
            "max_width": null,
            "min_height": null,
            "min_width": null,
            "object_fit": null,
            "object_position": null,
            "order": null,
            "overflow": null,
            "overflow_x": null,
            "overflow_y": null,
            "padding": null,
            "right": null,
            "top": null,
            "visibility": null,
            "width": null
          }
        },
        "a93e31d080e14962aee40321951d29b2": {
          "model_module": "@jupyter-widgets/controls",
          "model_name": "DescriptionStyleModel",
          "model_module_version": "1.5.0",
          "state": {
            "_model_module": "@jupyter-widgets/controls",
            "_model_module_version": "1.5.0",
            "_model_name": "DescriptionStyleModel",
            "_view_count": null,
            "_view_module": "@jupyter-widgets/base",
            "_view_module_version": "1.2.0",
            "_view_name": "StyleView",
            "description_width": ""
          }
        },
        "b6b67e8562e54adca8f13d481f234483": {
          "model_module": "@jupyter-widgets/base",
          "model_name": "LayoutModel",
          "model_module_version": "1.2.0",
          "state": {
            "_model_module": "@jupyter-widgets/base",
            "_model_module_version": "1.2.0",
            "_model_name": "LayoutModel",
            "_view_count": null,
            "_view_module": "@jupyter-widgets/base",
            "_view_module_version": "1.2.0",
            "_view_name": "LayoutView",
            "align_content": null,
            "align_items": null,
            "align_self": null,
            "border": null,
            "bottom": null,
            "display": null,
            "flex": null,
            "flex_flow": null,
            "grid_area": null,
            "grid_auto_columns": null,
            "grid_auto_flow": null,
            "grid_auto_rows": null,
            "grid_column": null,
            "grid_gap": null,
            "grid_row": null,
            "grid_template_areas": null,
            "grid_template_columns": null,
            "grid_template_rows": null,
            "height": null,
            "justify_content": null,
            "justify_items": null,
            "left": null,
            "margin": null,
            "max_height": null,
            "max_width": null,
            "min_height": null,
            "min_width": null,
            "object_fit": null,
            "object_position": null,
            "order": null,
            "overflow": null,
            "overflow_x": null,
            "overflow_y": null,
            "padding": null,
            "right": null,
            "top": null,
            "visibility": null,
            "width": null
          }
        },
        "b792a645738d4676be6351932c47d8ad": {
          "model_module": "@jupyter-widgets/controls",
          "model_name": "ProgressStyleModel",
          "model_module_version": "1.5.0",
          "state": {
            "_model_module": "@jupyter-widgets/controls",
            "_model_module_version": "1.5.0",
            "_model_name": "ProgressStyleModel",
            "_view_count": null,
            "_view_module": "@jupyter-widgets/base",
            "_view_module_version": "1.2.0",
            "_view_name": "StyleView",
            "bar_color": null,
            "description_width": ""
          }
        },
        "054529a52af74f08a649d8438b3e85e5": {
          "model_module": "@jupyter-widgets/base",
          "model_name": "LayoutModel",
          "model_module_version": "1.2.0",
          "state": {
            "_model_module": "@jupyter-widgets/base",
            "_model_module_version": "1.2.0",
            "_model_name": "LayoutModel",
            "_view_count": null,
            "_view_module": "@jupyter-widgets/base",
            "_view_module_version": "1.2.0",
            "_view_name": "LayoutView",
            "align_content": null,
            "align_items": null,
            "align_self": null,
            "border": null,
            "bottom": null,
            "display": null,
            "flex": null,
            "flex_flow": null,
            "grid_area": null,
            "grid_auto_columns": null,
            "grid_auto_flow": null,
            "grid_auto_rows": null,
            "grid_column": null,
            "grid_gap": null,
            "grid_row": null,
            "grid_template_areas": null,
            "grid_template_columns": null,
            "grid_template_rows": null,
            "height": null,
            "justify_content": null,
            "justify_items": null,
            "left": null,
            "margin": null,
            "max_height": null,
            "max_width": null,
            "min_height": null,
            "min_width": null,
            "object_fit": null,
            "object_position": null,
            "order": null,
            "overflow": null,
            "overflow_x": null,
            "overflow_y": null,
            "padding": null,
            "right": null,
            "top": null,
            "visibility": null,
            "width": null
          }
        },
        "89ec6c680b8d4629b72ef472d5230e71": {
          "model_module": "@jupyter-widgets/controls",
          "model_name": "DescriptionStyleModel",
          "model_module_version": "1.5.0",
          "state": {
            "_model_module": "@jupyter-widgets/controls",
            "_model_module_version": "1.5.0",
            "_model_name": "DescriptionStyleModel",
            "_view_count": null,
            "_view_module": "@jupyter-widgets/base",
            "_view_module_version": "1.2.0",
            "_view_name": "StyleView",
            "description_width": ""
          }
        },
        "39ac414da0bb4fb9bc7d2448b750e27d": {
          "model_module": "@jupyter-widgets/controls",
          "model_name": "HBoxModel",
          "model_module_version": "1.5.0",
          "state": {
            "_dom_classes": [],
            "_model_module": "@jupyter-widgets/controls",
            "_model_module_version": "1.5.0",
            "_model_name": "HBoxModel",
            "_view_count": null,
            "_view_module": "@jupyter-widgets/controls",
            "_view_module_version": "1.5.0",
            "_view_name": "HBoxView",
            "box_style": "",
            "children": [
              "IPY_MODEL_1b080350be8d46eabd9730a2e339a5cc",
              "IPY_MODEL_168a1b1d5da84265b803f591b90cad1c",
              "IPY_MODEL_45db52eea7c9421fa97f9c680954f72c"
            ],
            "layout": "IPY_MODEL_5c4870657d664e9894d552dec64b1de7"
          }
        },
        "1b080350be8d46eabd9730a2e339a5cc": {
          "model_module": "@jupyter-widgets/controls",
          "model_name": "HTMLModel",
          "model_module_version": "1.5.0",
          "state": {
            "_dom_classes": [],
            "_model_module": "@jupyter-widgets/controls",
            "_model_module_version": "1.5.0",
            "_model_name": "HTMLModel",
            "_view_count": null,
            "_view_module": "@jupyter-widgets/controls",
            "_view_module_version": "1.5.0",
            "_view_name": "HTMLView",
            "description": "",
            "description_tooltip": null,
            "layout": "IPY_MODEL_d787deb2ef7f4ecfa738c71a43c14251",
            "placeholder": "​",
            "style": "IPY_MODEL_f94b5e78f5d3434c8c2912b8211f5974",
            "value": "Downloading (…)olve/main/merges.txt: 100%"
          }
        },
        "168a1b1d5da84265b803f591b90cad1c": {
          "model_module": "@jupyter-widgets/controls",
          "model_name": "FloatProgressModel",
          "model_module_version": "1.5.0",
          "state": {
            "_dom_classes": [],
            "_model_module": "@jupyter-widgets/controls",
            "_model_module_version": "1.5.0",
            "_model_name": "FloatProgressModel",
            "_view_count": null,
            "_view_module": "@jupyter-widgets/controls",
            "_view_module_version": "1.5.0",
            "_view_name": "ProgressView",
            "bar_style": "success",
            "description": "",
            "description_tooltip": null,
            "layout": "IPY_MODEL_004122eb7d4b46018561411c7f4277be",
            "max": 456318,
            "min": 0,
            "orientation": "horizontal",
            "style": "IPY_MODEL_51d2d4f372d44ddbb5f9246a0504a479",
            "value": 456318
          }
        },
        "45db52eea7c9421fa97f9c680954f72c": {
          "model_module": "@jupyter-widgets/controls",
          "model_name": "HTMLModel",
          "model_module_version": "1.5.0",
          "state": {
            "_dom_classes": [],
            "_model_module": "@jupyter-widgets/controls",
            "_model_module_version": "1.5.0",
            "_model_name": "HTMLModel",
            "_view_count": null,
            "_view_module": "@jupyter-widgets/controls",
            "_view_module_version": "1.5.0",
            "_view_name": "HTMLView",
            "description": "",
            "description_tooltip": null,
            "layout": "IPY_MODEL_2f18a3102bb44904857f71a1b4e2b388",
            "placeholder": "​",
            "style": "IPY_MODEL_b6fda056253f498d9f5341b3a9858436",
            "value": " 456k/456k [00:00&lt;00:00, 2.41MB/s]"
          }
        },
        "5c4870657d664e9894d552dec64b1de7": {
          "model_module": "@jupyter-widgets/base",
          "model_name": "LayoutModel",
          "model_module_version": "1.2.0",
          "state": {
            "_model_module": "@jupyter-widgets/base",
            "_model_module_version": "1.2.0",
            "_model_name": "LayoutModel",
            "_view_count": null,
            "_view_module": "@jupyter-widgets/base",
            "_view_module_version": "1.2.0",
            "_view_name": "LayoutView",
            "align_content": null,
            "align_items": null,
            "align_self": null,
            "border": null,
            "bottom": null,
            "display": null,
            "flex": null,
            "flex_flow": null,
            "grid_area": null,
            "grid_auto_columns": null,
            "grid_auto_flow": null,
            "grid_auto_rows": null,
            "grid_column": null,
            "grid_gap": null,
            "grid_row": null,
            "grid_template_areas": null,
            "grid_template_columns": null,
            "grid_template_rows": null,
            "height": null,
            "justify_content": null,
            "justify_items": null,
            "left": null,
            "margin": null,
            "max_height": null,
            "max_width": null,
            "min_height": null,
            "min_width": null,
            "object_fit": null,
            "object_position": null,
            "order": null,
            "overflow": null,
            "overflow_x": null,
            "overflow_y": null,
            "padding": null,
            "right": null,
            "top": null,
            "visibility": null,
            "width": null
          }
        },
        "d787deb2ef7f4ecfa738c71a43c14251": {
          "model_module": "@jupyter-widgets/base",
          "model_name": "LayoutModel",
          "model_module_version": "1.2.0",
          "state": {
            "_model_module": "@jupyter-widgets/base",
            "_model_module_version": "1.2.0",
            "_model_name": "LayoutModel",
            "_view_count": null,
            "_view_module": "@jupyter-widgets/base",
            "_view_module_version": "1.2.0",
            "_view_name": "LayoutView",
            "align_content": null,
            "align_items": null,
            "align_self": null,
            "border": null,
            "bottom": null,
            "display": null,
            "flex": null,
            "flex_flow": null,
            "grid_area": null,
            "grid_auto_columns": null,
            "grid_auto_flow": null,
            "grid_auto_rows": null,
            "grid_column": null,
            "grid_gap": null,
            "grid_row": null,
            "grid_template_areas": null,
            "grid_template_columns": null,
            "grid_template_rows": null,
            "height": null,
            "justify_content": null,
            "justify_items": null,
            "left": null,
            "margin": null,
            "max_height": null,
            "max_width": null,
            "min_height": null,
            "min_width": null,
            "object_fit": null,
            "object_position": null,
            "order": null,
            "overflow": null,
            "overflow_x": null,
            "overflow_y": null,
            "padding": null,
            "right": null,
            "top": null,
            "visibility": null,
            "width": null
          }
        },
        "f94b5e78f5d3434c8c2912b8211f5974": {
          "model_module": "@jupyter-widgets/controls",
          "model_name": "DescriptionStyleModel",
          "model_module_version": "1.5.0",
          "state": {
            "_model_module": "@jupyter-widgets/controls",
            "_model_module_version": "1.5.0",
            "_model_name": "DescriptionStyleModel",
            "_view_count": null,
            "_view_module": "@jupyter-widgets/base",
            "_view_module_version": "1.2.0",
            "_view_name": "StyleView",
            "description_width": ""
          }
        },
        "004122eb7d4b46018561411c7f4277be": {
          "model_module": "@jupyter-widgets/base",
          "model_name": "LayoutModel",
          "model_module_version": "1.2.0",
          "state": {
            "_model_module": "@jupyter-widgets/base",
            "_model_module_version": "1.2.0",
            "_model_name": "LayoutModel",
            "_view_count": null,
            "_view_module": "@jupyter-widgets/base",
            "_view_module_version": "1.2.0",
            "_view_name": "LayoutView",
            "align_content": null,
            "align_items": null,
            "align_self": null,
            "border": null,
            "bottom": null,
            "display": null,
            "flex": null,
            "flex_flow": null,
            "grid_area": null,
            "grid_auto_columns": null,
            "grid_auto_flow": null,
            "grid_auto_rows": null,
            "grid_column": null,
            "grid_gap": null,
            "grid_row": null,
            "grid_template_areas": null,
            "grid_template_columns": null,
            "grid_template_rows": null,
            "height": null,
            "justify_content": null,
            "justify_items": null,
            "left": null,
            "margin": null,
            "max_height": null,
            "max_width": null,
            "min_height": null,
            "min_width": null,
            "object_fit": null,
            "object_position": null,
            "order": null,
            "overflow": null,
            "overflow_x": null,
            "overflow_y": null,
            "padding": null,
            "right": null,
            "top": null,
            "visibility": null,
            "width": null
          }
        },
        "51d2d4f372d44ddbb5f9246a0504a479": {
          "model_module": "@jupyter-widgets/controls",
          "model_name": "ProgressStyleModel",
          "model_module_version": "1.5.0",
          "state": {
            "_model_module": "@jupyter-widgets/controls",
            "_model_module_version": "1.5.0",
            "_model_name": "ProgressStyleModel",
            "_view_count": null,
            "_view_module": "@jupyter-widgets/base",
            "_view_module_version": "1.2.0",
            "_view_name": "StyleView",
            "bar_color": null,
            "description_width": ""
          }
        },
        "2f18a3102bb44904857f71a1b4e2b388": {
          "model_module": "@jupyter-widgets/base",
          "model_name": "LayoutModel",
          "model_module_version": "1.2.0",
          "state": {
            "_model_module": "@jupyter-widgets/base",
            "_model_module_version": "1.2.0",
            "_model_name": "LayoutModel",
            "_view_count": null,
            "_view_module": "@jupyter-widgets/base",
            "_view_module_version": "1.2.0",
            "_view_name": "LayoutView",
            "align_content": null,
            "align_items": null,
            "align_self": null,
            "border": null,
            "bottom": null,
            "display": null,
            "flex": null,
            "flex_flow": null,
            "grid_area": null,
            "grid_auto_columns": null,
            "grid_auto_flow": null,
            "grid_auto_rows": null,
            "grid_column": null,
            "grid_gap": null,
            "grid_row": null,
            "grid_template_areas": null,
            "grid_template_columns": null,
            "grid_template_rows": null,
            "height": null,
            "justify_content": null,
            "justify_items": null,
            "left": null,
            "margin": null,
            "max_height": null,
            "max_width": null,
            "min_height": null,
            "min_width": null,
            "object_fit": null,
            "object_position": null,
            "order": null,
            "overflow": null,
            "overflow_x": null,
            "overflow_y": null,
            "padding": null,
            "right": null,
            "top": null,
            "visibility": null,
            "width": null
          }
        },
        "b6fda056253f498d9f5341b3a9858436": {
          "model_module": "@jupyter-widgets/controls",
          "model_name": "DescriptionStyleModel",
          "model_module_version": "1.5.0",
          "state": {
            "_model_module": "@jupyter-widgets/controls",
            "_model_module_version": "1.5.0",
            "_model_name": "DescriptionStyleModel",
            "_view_count": null,
            "_view_module": "@jupyter-widgets/base",
            "_view_module_version": "1.2.0",
            "_view_name": "StyleView",
            "description_width": ""
          }
        },
        "dd8d897f289d4b029c57d9033c5509c1": {
          "model_module": "@jupyter-widgets/controls",
          "model_name": "HBoxModel",
          "model_module_version": "1.5.0",
          "state": {
            "_dom_classes": [],
            "_model_module": "@jupyter-widgets/controls",
            "_model_module_version": "1.5.0",
            "_model_name": "HBoxModel",
            "_view_count": null,
            "_view_module": "@jupyter-widgets/controls",
            "_view_module_version": "1.5.0",
            "_view_name": "HBoxView",
            "box_style": "",
            "children": [
              "IPY_MODEL_3051b117dbf74771994dff7907283fbe",
              "IPY_MODEL_0bde67c0524f4ab5bb9145d1fa92d75e",
              "IPY_MODEL_74a6b93ad0a34c9da0becc9d8e362b38"
            ],
            "layout": "IPY_MODEL_3f60e15557e249ec83947f2afc0e9146"
          }
        },
        "3051b117dbf74771994dff7907283fbe": {
          "model_module": "@jupyter-widgets/controls",
          "model_name": "HTMLModel",
          "model_module_version": "1.5.0",
          "state": {
            "_dom_classes": [],
            "_model_module": "@jupyter-widgets/controls",
            "_model_module_version": "1.5.0",
            "_model_name": "HTMLModel",
            "_view_count": null,
            "_view_module": "@jupyter-widgets/controls",
            "_view_module_version": "1.5.0",
            "_view_name": "HTMLView",
            "description": "",
            "description_tooltip": null,
            "layout": "IPY_MODEL_3e7956204be54655b0df2550332b1506",
            "placeholder": "​",
            "style": "IPY_MODEL_b10de0c2a9f04d5ca87aa49dd7cdb504",
            "value": "Downloading (…)lve/main/config.json: 100%"
          }
        },
        "0bde67c0524f4ab5bb9145d1fa92d75e": {
          "model_module": "@jupyter-widgets/controls",
          "model_name": "FloatProgressModel",
          "model_module_version": "1.5.0",
          "state": {
            "_dom_classes": [],
            "_model_module": "@jupyter-widgets/controls",
            "_model_module_version": "1.5.0",
            "_model_name": "FloatProgressModel",
            "_view_count": null,
            "_view_module": "@jupyter-widgets/controls",
            "_view_module_version": "1.5.0",
            "_view_name": "ProgressView",
            "bar_style": "success",
            "description": "",
            "description_tooltip": null,
            "layout": "IPY_MODEL_b27fd88110864b4eb617d2f83645b598",
            "max": 1716,
            "min": 0,
            "orientation": "horizontal",
            "style": "IPY_MODEL_11cb277034de49e2b8340e7d0432468e",
            "value": 1716
          }
        },
        "74a6b93ad0a34c9da0becc9d8e362b38": {
          "model_module": "@jupyter-widgets/controls",
          "model_name": "HTMLModel",
          "model_module_version": "1.5.0",
          "state": {
            "_dom_classes": [],
            "_model_module": "@jupyter-widgets/controls",
            "_model_module_version": "1.5.0",
            "_model_name": "HTMLModel",
            "_view_count": null,
            "_view_module": "@jupyter-widgets/controls",
            "_view_module_version": "1.5.0",
            "_view_name": "HTMLView",
            "description": "",
            "description_tooltip": null,
            "layout": "IPY_MODEL_46d53ce8d31842949b50a5a8216c545e",
            "placeholder": "​",
            "style": "IPY_MODEL_e0a28b4e62c6418eb52c30ea5fc909ab",
            "value": " 1.72k/1.72k [00:00&lt;00:00, 71.5kB/s]"
          }
        },
        "3f60e15557e249ec83947f2afc0e9146": {
          "model_module": "@jupyter-widgets/base",
          "model_name": "LayoutModel",
          "model_module_version": "1.2.0",
          "state": {
            "_model_module": "@jupyter-widgets/base",
            "_model_module_version": "1.2.0",
            "_model_name": "LayoutModel",
            "_view_count": null,
            "_view_module": "@jupyter-widgets/base",
            "_view_module_version": "1.2.0",
            "_view_name": "LayoutView",
            "align_content": null,
            "align_items": null,
            "align_self": null,
            "border": null,
            "bottom": null,
            "display": null,
            "flex": null,
            "flex_flow": null,
            "grid_area": null,
            "grid_auto_columns": null,
            "grid_auto_flow": null,
            "grid_auto_rows": null,
            "grid_column": null,
            "grid_gap": null,
            "grid_row": null,
            "grid_template_areas": null,
            "grid_template_columns": null,
            "grid_template_rows": null,
            "height": null,
            "justify_content": null,
            "justify_items": null,
            "left": null,
            "margin": null,
            "max_height": null,
            "max_width": null,
            "min_height": null,
            "min_width": null,
            "object_fit": null,
            "object_position": null,
            "order": null,
            "overflow": null,
            "overflow_x": null,
            "overflow_y": null,
            "padding": null,
            "right": null,
            "top": null,
            "visibility": null,
            "width": null
          }
        },
        "3e7956204be54655b0df2550332b1506": {
          "model_module": "@jupyter-widgets/base",
          "model_name": "LayoutModel",
          "model_module_version": "1.2.0",
          "state": {
            "_model_module": "@jupyter-widgets/base",
            "_model_module_version": "1.2.0",
            "_model_name": "LayoutModel",
            "_view_count": null,
            "_view_module": "@jupyter-widgets/base",
            "_view_module_version": "1.2.0",
            "_view_name": "LayoutView",
            "align_content": null,
            "align_items": null,
            "align_self": null,
            "border": null,
            "bottom": null,
            "display": null,
            "flex": null,
            "flex_flow": null,
            "grid_area": null,
            "grid_auto_columns": null,
            "grid_auto_flow": null,
            "grid_auto_rows": null,
            "grid_column": null,
            "grid_gap": null,
            "grid_row": null,
            "grid_template_areas": null,
            "grid_template_columns": null,
            "grid_template_rows": null,
            "height": null,
            "justify_content": null,
            "justify_items": null,
            "left": null,
            "margin": null,
            "max_height": null,
            "max_width": null,
            "min_height": null,
            "min_width": null,
            "object_fit": null,
            "object_position": null,
            "order": null,
            "overflow": null,
            "overflow_x": null,
            "overflow_y": null,
            "padding": null,
            "right": null,
            "top": null,
            "visibility": null,
            "width": null
          }
        },
        "b10de0c2a9f04d5ca87aa49dd7cdb504": {
          "model_module": "@jupyter-widgets/controls",
          "model_name": "DescriptionStyleModel",
          "model_module_version": "1.5.0",
          "state": {
            "_model_module": "@jupyter-widgets/controls",
            "_model_module_version": "1.5.0",
            "_model_name": "DescriptionStyleModel",
            "_view_count": null,
            "_view_module": "@jupyter-widgets/base",
            "_view_module_version": "1.2.0",
            "_view_name": "StyleView",
            "description_width": ""
          }
        },
        "b27fd88110864b4eb617d2f83645b598": {
          "model_module": "@jupyter-widgets/base",
          "model_name": "LayoutModel",
          "model_module_version": "1.2.0",
          "state": {
            "_model_module": "@jupyter-widgets/base",
            "_model_module_version": "1.2.0",
            "_model_name": "LayoutModel",
            "_view_count": null,
            "_view_module": "@jupyter-widgets/base",
            "_view_module_version": "1.2.0",
            "_view_name": "LayoutView",
            "align_content": null,
            "align_items": null,
            "align_self": null,
            "border": null,
            "bottom": null,
            "display": null,
            "flex": null,
            "flex_flow": null,
            "grid_area": null,
            "grid_auto_columns": null,
            "grid_auto_flow": null,
            "grid_auto_rows": null,
            "grid_column": null,
            "grid_gap": null,
            "grid_row": null,
            "grid_template_areas": null,
            "grid_template_columns": null,
            "grid_template_rows": null,
            "height": null,
            "justify_content": null,
            "justify_items": null,
            "left": null,
            "margin": null,
            "max_height": null,
            "max_width": null,
            "min_height": null,
            "min_width": null,
            "object_fit": null,
            "object_position": null,
            "order": null,
            "overflow": null,
            "overflow_x": null,
            "overflow_y": null,
            "padding": null,
            "right": null,
            "top": null,
            "visibility": null,
            "width": null
          }
        },
        "11cb277034de49e2b8340e7d0432468e": {
          "model_module": "@jupyter-widgets/controls",
          "model_name": "ProgressStyleModel",
          "model_module_version": "1.5.0",
          "state": {
            "_model_module": "@jupyter-widgets/controls",
            "_model_module_version": "1.5.0",
            "_model_name": "ProgressStyleModel",
            "_view_count": null,
            "_view_module": "@jupyter-widgets/base",
            "_view_module_version": "1.2.0",
            "_view_name": "StyleView",
            "bar_color": null,
            "description_width": ""
          }
        },
        "46d53ce8d31842949b50a5a8216c545e": {
          "model_module": "@jupyter-widgets/base",
          "model_name": "LayoutModel",
          "model_module_version": "1.2.0",
          "state": {
            "_model_module": "@jupyter-widgets/base",
            "_model_module_version": "1.2.0",
            "_model_name": "LayoutModel",
            "_view_count": null,
            "_view_module": "@jupyter-widgets/base",
            "_view_module_version": "1.2.0",
            "_view_name": "LayoutView",
            "align_content": null,
            "align_items": null,
            "align_self": null,
            "border": null,
            "bottom": null,
            "display": null,
            "flex": null,
            "flex_flow": null,
            "grid_area": null,
            "grid_auto_columns": null,
            "grid_auto_flow": null,
            "grid_auto_rows": null,
            "grid_column": null,
            "grid_gap": null,
            "grid_row": null,
            "grid_template_areas": null,
            "grid_template_columns": null,
            "grid_template_rows": null,
            "height": null,
            "justify_content": null,
            "justify_items": null,
            "left": null,
            "margin": null,
            "max_height": null,
            "max_width": null,
            "min_height": null,
            "min_width": null,
            "object_fit": null,
            "object_position": null,
            "order": null,
            "overflow": null,
            "overflow_x": null,
            "overflow_y": null,
            "padding": null,
            "right": null,
            "top": null,
            "visibility": null,
            "width": null
          }
        },
        "e0a28b4e62c6418eb52c30ea5fc909ab": {
          "model_module": "@jupyter-widgets/controls",
          "model_name": "DescriptionStyleModel",
          "model_module_version": "1.5.0",
          "state": {
            "_model_module": "@jupyter-widgets/controls",
            "_model_module_version": "1.5.0",
            "_model_name": "DescriptionStyleModel",
            "_view_count": null,
            "_view_module": "@jupyter-widgets/base",
            "_view_module_version": "1.2.0",
            "_view_name": "StyleView",
            "description_width": ""
          }
        },
        "c2d4fc4bf6224820986d189eefc63ca5": {
          "model_module": "@jupyter-widgets/controls",
          "model_name": "HBoxModel",
          "model_module_version": "1.5.0",
          "state": {
            "_dom_classes": [],
            "_model_module": "@jupyter-widgets/controls",
            "_model_module_version": "1.5.0",
            "_model_name": "HBoxModel",
            "_view_count": null,
            "_view_module": "@jupyter-widgets/controls",
            "_view_module_version": "1.5.0",
            "_view_name": "HBoxView",
            "box_style": "",
            "children": [
              "IPY_MODEL_c68234e2ac2246f9acf805a505481f70",
              "IPY_MODEL_c575c01fe64c465c87ec7bd470d20d86",
              "IPY_MODEL_7d0b88e846e64d32a53b725473fc544f"
            ],
            "layout": "IPY_MODEL_54681bc3d08b4afa9ae1660934cfb06b"
          }
        },
        "c68234e2ac2246f9acf805a505481f70": {
          "model_module": "@jupyter-widgets/controls",
          "model_name": "HTMLModel",
          "model_module_version": "1.5.0",
          "state": {
            "_dom_classes": [],
            "_model_module": "@jupyter-widgets/controls",
            "_model_module_version": "1.5.0",
            "_model_name": "HTMLModel",
            "_view_count": null,
            "_view_module": "@jupyter-widgets/controls",
            "_view_module_version": "1.5.0",
            "_view_name": "HTMLView",
            "description": "",
            "description_tooltip": null,
            "layout": "IPY_MODEL_9c25e7dbd5f1404fa21a1f3ad6356fae",
            "placeholder": "​",
            "style": "IPY_MODEL_4150e36d15aa4932860f71d5ad8656d4",
            "value": "Downloading model.safetensors: 100%"
          }
        },
        "c575c01fe64c465c87ec7bd470d20d86": {
          "model_module": "@jupyter-widgets/controls",
          "model_name": "FloatProgressModel",
          "model_module_version": "1.5.0",
          "state": {
            "_dom_classes": [],
            "_model_module": "@jupyter-widgets/controls",
            "_model_module_version": "1.5.0",
            "_model_name": "FloatProgressModel",
            "_view_count": null,
            "_view_module": "@jupyter-widgets/controls",
            "_view_module_version": "1.5.0",
            "_view_name": "ProgressView",
            "bar_style": "success",
            "description": "",
            "description_tooltip": null,
            "layout": "IPY_MODEL_7cf84c73cc3f48aa8bc3dc5e06ca90b9",
            "max": 557709915,
            "min": 0,
            "orientation": "horizontal",
            "style": "IPY_MODEL_ebf1bd67384b4d13a25f330225693a6d",
            "value": 557709915
          }
        },
        "7d0b88e846e64d32a53b725473fc544f": {
          "model_module": "@jupyter-widgets/controls",
          "model_name": "HTMLModel",
          "model_module_version": "1.5.0",
          "state": {
            "_dom_classes": [],
            "_model_module": "@jupyter-widgets/controls",
            "_model_module_version": "1.5.0",
            "_model_name": "HTMLModel",
            "_view_count": null,
            "_view_module": "@jupyter-widgets/controls",
            "_view_module_version": "1.5.0",
            "_view_name": "HTMLView",
            "description": "",
            "description_tooltip": null,
            "layout": "IPY_MODEL_8aed4e830f4d450c9315476041d7fccc",
            "placeholder": "​",
            "style": "IPY_MODEL_edd58fc971bb4ee194a184aa3adb1c5b",
            "value": " 558M/558M [00:07&lt;00:00, 80.9MB/s]"
          }
        },
        "54681bc3d08b4afa9ae1660934cfb06b": {
          "model_module": "@jupyter-widgets/base",
          "model_name": "LayoutModel",
          "model_module_version": "1.2.0",
          "state": {
            "_model_module": "@jupyter-widgets/base",
            "_model_module_version": "1.2.0",
            "_model_name": "LayoutModel",
            "_view_count": null,
            "_view_module": "@jupyter-widgets/base",
            "_view_module_version": "1.2.0",
            "_view_name": "LayoutView",
            "align_content": null,
            "align_items": null,
            "align_self": null,
            "border": null,
            "bottom": null,
            "display": null,
            "flex": null,
            "flex_flow": null,
            "grid_area": null,
            "grid_auto_columns": null,
            "grid_auto_flow": null,
            "grid_auto_rows": null,
            "grid_column": null,
            "grid_gap": null,
            "grid_row": null,
            "grid_template_areas": null,
            "grid_template_columns": null,
            "grid_template_rows": null,
            "height": null,
            "justify_content": null,
            "justify_items": null,
            "left": null,
            "margin": null,
            "max_height": null,
            "max_width": null,
            "min_height": null,
            "min_width": null,
            "object_fit": null,
            "object_position": null,
            "order": null,
            "overflow": null,
            "overflow_x": null,
            "overflow_y": null,
            "padding": null,
            "right": null,
            "top": null,
            "visibility": null,
            "width": null
          }
        },
        "9c25e7dbd5f1404fa21a1f3ad6356fae": {
          "model_module": "@jupyter-widgets/base",
          "model_name": "LayoutModel",
          "model_module_version": "1.2.0",
          "state": {
            "_model_module": "@jupyter-widgets/base",
            "_model_module_version": "1.2.0",
            "_model_name": "LayoutModel",
            "_view_count": null,
            "_view_module": "@jupyter-widgets/base",
            "_view_module_version": "1.2.0",
            "_view_name": "LayoutView",
            "align_content": null,
            "align_items": null,
            "align_self": null,
            "border": null,
            "bottom": null,
            "display": null,
            "flex": null,
            "flex_flow": null,
            "grid_area": null,
            "grid_auto_columns": null,
            "grid_auto_flow": null,
            "grid_auto_rows": null,
            "grid_column": null,
            "grid_gap": null,
            "grid_row": null,
            "grid_template_areas": null,
            "grid_template_columns": null,
            "grid_template_rows": null,
            "height": null,
            "justify_content": null,
            "justify_items": null,
            "left": null,
            "margin": null,
            "max_height": null,
            "max_width": null,
            "min_height": null,
            "min_width": null,
            "object_fit": null,
            "object_position": null,
            "order": null,
            "overflow": null,
            "overflow_x": null,
            "overflow_y": null,
            "padding": null,
            "right": null,
            "top": null,
            "visibility": null,
            "width": null
          }
        },
        "4150e36d15aa4932860f71d5ad8656d4": {
          "model_module": "@jupyter-widgets/controls",
          "model_name": "DescriptionStyleModel",
          "model_module_version": "1.5.0",
          "state": {
            "_model_module": "@jupyter-widgets/controls",
            "_model_module_version": "1.5.0",
            "_model_name": "DescriptionStyleModel",
            "_view_count": null,
            "_view_module": "@jupyter-widgets/base",
            "_view_module_version": "1.2.0",
            "_view_name": "StyleView",
            "description_width": ""
          }
        },
        "7cf84c73cc3f48aa8bc3dc5e06ca90b9": {
          "model_module": "@jupyter-widgets/base",
          "model_name": "LayoutModel",
          "model_module_version": "1.2.0",
          "state": {
            "_model_module": "@jupyter-widgets/base",
            "_model_module_version": "1.2.0",
            "_model_name": "LayoutModel",
            "_view_count": null,
            "_view_module": "@jupyter-widgets/base",
            "_view_module_version": "1.2.0",
            "_view_name": "LayoutView",
            "align_content": null,
            "align_items": null,
            "align_self": null,
            "border": null,
            "bottom": null,
            "display": null,
            "flex": null,
            "flex_flow": null,
            "grid_area": null,
            "grid_auto_columns": null,
            "grid_auto_flow": null,
            "grid_auto_rows": null,
            "grid_column": null,
            "grid_gap": null,
            "grid_row": null,
            "grid_template_areas": null,
            "grid_template_columns": null,
            "grid_template_rows": null,
            "height": null,
            "justify_content": null,
            "justify_items": null,
            "left": null,
            "margin": null,
            "max_height": null,
            "max_width": null,
            "min_height": null,
            "min_width": null,
            "object_fit": null,
            "object_position": null,
            "order": null,
            "overflow": null,
            "overflow_x": null,
            "overflow_y": null,
            "padding": null,
            "right": null,
            "top": null,
            "visibility": null,
            "width": null
          }
        },
        "ebf1bd67384b4d13a25f330225693a6d": {
          "model_module": "@jupyter-widgets/controls",
          "model_name": "ProgressStyleModel",
          "model_module_version": "1.5.0",
          "state": {
            "_model_module": "@jupyter-widgets/controls",
            "_model_module_version": "1.5.0",
            "_model_name": "ProgressStyleModel",
            "_view_count": null,
            "_view_module": "@jupyter-widgets/base",
            "_view_module_version": "1.2.0",
            "_view_name": "StyleView",
            "bar_color": null,
            "description_width": ""
          }
        },
        "8aed4e830f4d450c9315476041d7fccc": {
          "model_module": "@jupyter-widgets/base",
          "model_name": "LayoutModel",
          "model_module_version": "1.2.0",
          "state": {
            "_model_module": "@jupyter-widgets/base",
            "_model_module_version": "1.2.0",
            "_model_name": "LayoutModel",
            "_view_count": null,
            "_view_module": "@jupyter-widgets/base",
            "_view_module_version": "1.2.0",
            "_view_name": "LayoutView",
            "align_content": null,
            "align_items": null,
            "align_self": null,
            "border": null,
            "bottom": null,
            "display": null,
            "flex": null,
            "flex_flow": null,
            "grid_area": null,
            "grid_auto_columns": null,
            "grid_auto_flow": null,
            "grid_auto_rows": null,
            "grid_column": null,
            "grid_gap": null,
            "grid_row": null,
            "grid_template_areas": null,
            "grid_template_columns": null,
            "grid_template_rows": null,
            "height": null,
            "justify_content": null,
            "justify_items": null,
            "left": null,
            "margin": null,
            "max_height": null,
            "max_width": null,
            "min_height": null,
            "min_width": null,
            "object_fit": null,
            "object_position": null,
            "order": null,
            "overflow": null,
            "overflow_x": null,
            "overflow_y": null,
            "padding": null,
            "right": null,
            "top": null,
            "visibility": null,
            "width": null
          }
        },
        "edd58fc971bb4ee194a184aa3adb1c5b": {
          "model_module": "@jupyter-widgets/controls",
          "model_name": "DescriptionStyleModel",
          "model_module_version": "1.5.0",
          "state": {
            "_model_module": "@jupyter-widgets/controls",
            "_model_module_version": "1.5.0",
            "_model_name": "DescriptionStyleModel",
            "_view_count": null,
            "_view_module": "@jupyter-widgets/base",
            "_view_module_version": "1.2.0",
            "_view_name": "StyleView",
            "description_width": ""
          }
        }
      }
    }
  },
  "cells": [
    {
      "cell_type": "markdown",
      "metadata": {
        "id": "view-in-github",
        "colab_type": "text"
      },
      "source": [
        "<a href=\"https://colab.research.google.com/github/aecoaker/FTA-Summary/blob/master/Creating%20Final%20Summaries.ipynb\" target=\"_parent\"><img src=\"https://colab.research.google.com/assets/colab-badge.svg\" alt=\"Open In Colab\"/></a>"
      ]
    },
    {
      "cell_type": "markdown",
      "source": [
        "# Text Summarisation"
      ],
      "metadata": {
        "id": "DNhcP0ietsdd"
      }
    },
    {
      "cell_type": "markdown",
      "source": [
        "# Getting model set up"
      ],
      "metadata": {
        "id": "UzKhwKJ8icWI"
      }
    },
    {
      "cell_type": "code",
      "source": [
        "#import the model\n",
        "from transformers import BartForConditionalGeneration, BartTokenizer, BartConfig\n",
        "# load a pre-trained model and tokenizer 'bart-large-cnn'\n",
        "tokeniser = BartTokenizer.from_pretrained('facebook/bart-base')\n",
        "model = BartForConditionalGeneration.from_pretrained('facebook/bart-base')"
      ],
      "metadata": {
        "colab": {
          "base_uri": "https://localhost:8080/",
          "height": 145,
          "referenced_widgets": [
            "4672abc5300f4d44acbebcde40af9f75",
            "363f52668a4a4a49a3cc9feefbc8a942",
            "0ee0200699b04b74a39135a1b70d7d62",
            "e6a66470b27d41679004e1123d10ea10",
            "2b9f44a2242b47cc8dbbac04661a4c85",
            "c0b26ba7faa545a0b55d2c10bfa84390",
            "a93e31d080e14962aee40321951d29b2",
            "b6b67e8562e54adca8f13d481f234483",
            "b792a645738d4676be6351932c47d8ad",
            "054529a52af74f08a649d8438b3e85e5",
            "89ec6c680b8d4629b72ef472d5230e71",
            "39ac414da0bb4fb9bc7d2448b750e27d",
            "1b080350be8d46eabd9730a2e339a5cc",
            "168a1b1d5da84265b803f591b90cad1c",
            "45db52eea7c9421fa97f9c680954f72c",
            "5c4870657d664e9894d552dec64b1de7",
            "d787deb2ef7f4ecfa738c71a43c14251",
            "f94b5e78f5d3434c8c2912b8211f5974",
            "004122eb7d4b46018561411c7f4277be",
            "51d2d4f372d44ddbb5f9246a0504a479",
            "2f18a3102bb44904857f71a1b4e2b388",
            "b6fda056253f498d9f5341b3a9858436",
            "dd8d897f289d4b029c57d9033c5509c1",
            "3051b117dbf74771994dff7907283fbe",
            "0bde67c0524f4ab5bb9145d1fa92d75e",
            "74a6b93ad0a34c9da0becc9d8e362b38",
            "3f60e15557e249ec83947f2afc0e9146",
            "3e7956204be54655b0df2550332b1506",
            "b10de0c2a9f04d5ca87aa49dd7cdb504",
            "b27fd88110864b4eb617d2f83645b598",
            "11cb277034de49e2b8340e7d0432468e",
            "46d53ce8d31842949b50a5a8216c545e",
            "e0a28b4e62c6418eb52c30ea5fc909ab",
            "c2d4fc4bf6224820986d189eefc63ca5",
            "c68234e2ac2246f9acf805a505481f70",
            "c575c01fe64c465c87ec7bd470d20d86",
            "7d0b88e846e64d32a53b725473fc544f",
            "54681bc3d08b4afa9ae1660934cfb06b",
            "9c25e7dbd5f1404fa21a1f3ad6356fae",
            "4150e36d15aa4932860f71d5ad8656d4",
            "7cf84c73cc3f48aa8bc3dc5e06ca90b9",
            "ebf1bd67384b4d13a25f330225693a6d",
            "8aed4e830f4d450c9315476041d7fccc",
            "edd58fc971bb4ee194a184aa3adb1c5b"
          ]
        },
        "id": "w55R1blttvTc",
        "outputId": "5d50a2f7-0543-4da6-babc-d33abaaa8ff7"
      },
      "execution_count": 4,
      "outputs": [
        {
          "output_type": "display_data",
          "data": {
            "text/plain": [
              "Downloading (…)olve/main/vocab.json:   0%|          | 0.00/899k [00:00<?, ?B/s]"
            ],
            "application/vnd.jupyter.widget-view+json": {
              "version_major": 2,
              "version_minor": 0,
              "model_id": "4672abc5300f4d44acbebcde40af9f75"
            }
          },
          "metadata": {}
        },
        {
          "output_type": "display_data",
          "data": {
            "text/plain": [
              "Downloading (…)olve/main/merges.txt:   0%|          | 0.00/456k [00:00<?, ?B/s]"
            ],
            "application/vnd.jupyter.widget-view+json": {
              "version_major": 2,
              "version_minor": 0,
              "model_id": "39ac414da0bb4fb9bc7d2448b750e27d"
            }
          },
          "metadata": {}
        },
        {
          "output_type": "display_data",
          "data": {
            "text/plain": [
              "Downloading (…)lve/main/config.json:   0%|          | 0.00/1.72k [00:00<?, ?B/s]"
            ],
            "application/vnd.jupyter.widget-view+json": {
              "version_major": 2,
              "version_minor": 0,
              "model_id": "dd8d897f289d4b029c57d9033c5509c1"
            }
          },
          "metadata": {}
        },
        {
          "output_type": "display_data",
          "data": {
            "text/plain": [
              "Downloading model.safetensors:   0%|          | 0.00/558M [00:00<?, ?B/s]"
            ],
            "application/vnd.jupyter.widget-view+json": {
              "version_major": 2,
              "version_minor": 0,
              "model_id": "c2d4fc4bf6224820986d189eefc63ca5"
            }
          },
          "metadata": {}
        }
      ]
    },
    {
      "cell_type": "code",
      "source": [
        "#import other libraries\n",
        "import pandas as pd\n",
        "import pickle"
      ],
      "metadata": {
        "id": "nkeGiuayvBYh"
      },
      "execution_count": 61,
      "outputs": []
    },
    {
      "cell_type": "code",
      "source": [
        "#write in function developed previously for splitting into sections (or chunks) that are not too long to be fed into BART\n",
        "def summary_chunks(text):\n",
        "    chunks = []\n",
        "    #split and join back together to remove odd whitespaces\n",
        "    remaining_text = \" \".join(text.split())\n",
        "    #loop through and split text off into the list of chunks\n",
        "    while remaining_text.count('.') > 1:\n",
        "      words = remaining_text.split()\n",
        "      stop_index = \" \".join(words[0:750]).rfind('.')\n",
        "      chunks.append(remaining_text[0:stop_index+1])\n",
        "      remaining_text = remaining_text[stop_index+1:]\n",
        "    #have to remove some specific sections which tokenise into too many words in an unhelpful way in BART's tokeniser\n",
        "    chunks = [c.replace('𝑅𝑅𝑅𝑅𝑅𝑅 = 𝑣𝑣𝑣𝑣𝑣𝑣𝑣𝑣𝑣𝑣 𝑜𝑜𝑜𝑜 𝑡𝑡ℎ𝑣𝑣 𝑔𝑔𝑜𝑜𝑜𝑜𝑔𝑔 − 𝑣𝑣𝑣𝑣 𝑣𝑣𝑣𝑣𝑣𝑣 𝑜𝑜𝑜𝑜 𝑛𝑛𝑜𝑜𝑛𝑛−𝑜𝑜𝑜𝑜𝑜𝑜𝑔𝑔𝑜𝑜𝑛𝑛𝑣𝑣𝑡𝑡𝑜𝑜𝑛𝑛𝑔𝑔 𝑚𝑚𝑣𝑣𝑡𝑡𝑣𝑣𝑜𝑜 𝑜𝑜𝑣𝑣𝑣𝑣𝑚𝑚 𝑣𝑣𝑣𝑣𝑣𝑣𝑣𝑣𝑣𝑣 𝑜𝑜𝑜𝑜 𝑡𝑡ℎ𝑣𝑣 𝑔𝑔𝑜𝑜𝑜𝑜𝑔𝑔', '') for c in chunks]\n",
        "    chunks = [c.replace('𝑅𝑅𝑅𝑅𝑅𝑅 = 𝑣𝑣𝑣𝑣𝑣𝑣𝑣𝑣𝑣𝑣 𝑜𝑜𝑜𝑜 𝑜𝑜𝑜𝑜𝑜𝑜𝑔𝑔𝑜𝑜𝑛𝑛𝑣𝑣𝑡𝑡𝑜𝑜𝑛𝑛𝑔𝑔 𝑚𝑚𝑣𝑣𝑡𝑡𝑣𝑣𝑜𝑜 𝑜𝑜𝑣𝑣𝑣𝑣𝑚𝑚 𝑣𝑣𝑣𝑣𝑣𝑣𝑣𝑣𝑣𝑣 𝑜𝑜𝑜𝑜 𝑡𝑡ℎ𝑣𝑣 𝑔𝑔𝑜𝑜𝑜𝑜𝑔𝑔×100', '') for c in chunks]\n",
        "    return chunks"
      ],
      "metadata": {
        "id": "5fN0nzykudCT"
      },
      "execution_count": null,
      "outputs": []
    },
    {
      "cell_type": "code",
      "source": [
        "articles_df = pd.read_csv(\"article_topics.csv\")"
      ],
      "metadata": {
        "id": "ZoE2M3MUuIRr"
      },
      "execution_count": 9,
      "outputs": []
    },
    {
      "cell_type": "code",
      "source": [
        "#generate summaries for app\n",
        "l = 0.9\n",
        "summaries = []\n",
        "pre_recursive_summaries = []\n",
        "for t in range(20):\n",
        "  example_classification = articles_df[articles_df[('prob_t' + str(t))] >= l]\n",
        "  example_topic_text = ' '.join(example_classification['Article Text'])\n",
        "  example_text_chunks = summary_chunks(example_topic_text)\n",
        "  inputs = [tokeniser.batch_encode_plus([text],return_tensors = 'pt') for text in example_text_chunks]\n",
        "  summary_ids = [model.generate(i['input_ids'], early_stopping = True) for i in inputs]\n",
        "  bart_summaries = [tokeniser.decode(ids[0], skip_special_tokens = True) for ids in summary_ids]\n",
        "  single_sum = ' '.join(bart_summaries)\n",
        "  pre_recursive_summaries.append(single_sum)\n",
        "  input = tokeniser.batch_encode_plus([single_sum],return_tensors='pt')\n",
        "  summary_id = model.generate(input['input_ids'], early_stopping=True)\n",
        "  final_sum = tokeniser.decode(summary_id[0], skip_special_tokens=True)\n",
        "  print(str(t)) #print the step in order to keep track of progress\n",
        "  summaries.append(final_sum)\n",
        "print(summaries)"
      ],
      "metadata": {
        "colab": {
          "base_uri": "https://localhost:8080/"
        },
        "id": "cYNeoCBtvVtl",
        "outputId": "440af88e-8a28-4e8e-940e-90fa85ec48c2"
      },
      "execution_count": 41,
      "outputs": [
        {
          "output_type": "stream",
          "name": "stdout",
          "text": [
            "0\n",
            "1\n",
            "2\n",
            "3\n",
            "4\n",
            "5\n",
            "6\n",
            "7\n",
            "8\n",
            "9\n",
            "10\n",
            "11\n",
            "12\n",
            "13\n",
            "14\n",
            "15\n",
            "16\n",
            "17\n",
            "18\n",
            "19\n",
            "['Except as provided in this Section, e ach Party affirms its rights and obligations', 'Neither Party shall adopt or maintain, either on the basis of its entire territory or on', 'Each Party shall accord national treatment to the goods of the other Party in accordance with Article', 'A Party shall not reject a declaration of origin due to minor errors or discrepancies, such', 'Expressions The Parties affirm their commitment to work together through discussion and by the exchange of', '1. If, as a result of customs duty reduction or elimination, an originating good', '1. The Parties recognise that a broad range of mechanisms exists to facilitate the acceptance in', 'Neither Party shall have recourse to dispute settlement under Chapter 30 (Dispute Settlement)', '1. This Chapter applies to measures of a Party affecting the supply of professional services,', 'For the purposes of this Chapter, the value of a material is: (a)', 'Each Party shall ensure that, when its state- owned enterprises, state enterprises and designated', 'For the purposes of Article 4.2 (Origin Criteria) the following goods shall', 'Except as otherwise provided in this Chapter, a good shall be regarded as originating if it', '1. The Parties affirm their existing rights and obligations with respect to each other under the', '1. Neither Party shall adopt or maintain a measure that is inconsistent with the Import Lic', '1. Each Party shall adopt or maintain measures that allow for the imposition of a penalty', '1. Each Party shall administer its procedures for the allocation and use of scarce resources,', '1. Neither Party shall apply a customs duty to a good, regardless of its origin', 'Electronic Publication of Procurement Notices 1. For covered procurement, notice s', '1. Within 60 days of the date of entry into force of this Agreement, each']\n"
          ]
        }
      ]
    },
    {
      "cell_type": "code",
      "source": [
        "#review the outputs\n",
        "summaries"
      ],
      "metadata": {
        "colab": {
          "base_uri": "https://localhost:8080/"
        },
        "id": "eOi-7jCsiPMO",
        "outputId": "e74c2c9e-b12e-4876-d1a7-0e909db2b5f9"
      },
      "execution_count": 42,
      "outputs": [
        {
          "output_type": "execute_result",
          "data": {
            "text/plain": [
              "['Except as provided in this Section, e ach Party affirms its rights and obligations',\n",
              " 'Neither Party shall adopt or maintain, either on the basis of its entire territory or on',\n",
              " 'Each Party shall accord national treatment to the goods of the other Party in accordance with Article',\n",
              " 'A Party shall not reject a declaration of origin due to minor errors or discrepancies, such',\n",
              " 'Expressions The Parties affirm their commitment to work together through discussion and by the exchange of',\n",
              " '1. If, as a result of customs duty reduction or elimination, an originating good',\n",
              " '1. The Parties recognise that a broad range of mechanisms exists to facilitate the acceptance in',\n",
              " 'Neither Party shall have recourse to dispute settlement under Chapter 30 (Dispute Settlement)',\n",
              " '1. This Chapter applies to measures of a Party affecting the supply of professional services,',\n",
              " 'For the purposes of this Chapter, the value of a material is: (a)',\n",
              " 'Each Party shall ensure that, when its state- owned enterprises, state enterprises and designated',\n",
              " 'For the purposes of Article 4.2 (Origin Criteria) the following goods shall',\n",
              " 'Except as otherwise provided in this Chapter, a good shall be regarded as originating if it',\n",
              " '1. The Parties affirm their existing rights and obligations with respect to each other under the',\n",
              " '1. Neither Party shall adopt or maintain a measure that is inconsistent with the Import Lic',\n",
              " '1. Each Party shall adopt or maintain measures that allow for the imposition of a penalty',\n",
              " '1. Each Party shall administer its procedures for the allocation and use of scarce resources,',\n",
              " '1. Neither Party shall apply a customs duty to a good, regardless of its origin',\n",
              " 'Electronic Publication of Procurement Notices 1. For covered procurement, notice s',\n",
              " '1. Within 60 days of the date of entry into force of this Agreement, each']"
            ]
          },
          "metadata": {},
          "execution_count": 42
        }
      ]
    },
    {
      "cell_type": "markdown",
      "source": [
        "The summaries are being cut off by the default value of some length parameter, we need to fix this to create reasonable results."
      ],
      "metadata": {
        "id": "cuNFLqwuiRm8"
      }
    },
    {
      "cell_type": "code",
      "source": [
        "#review the pre-resursive summaries to see if they are having the same issue\n",
        "pre_recursive_summaries"
      ],
      "metadata": {
        "colab": {
          "base_uri": "https://localhost:8080/"
        },
        "id": "5n_VF2NUi2VN",
        "outputId": "f8e1b754-73f7-4d30-bca1-a2a980d62cc0"
      },
      "execution_count": 43,
      "outputs": [
        {
          "output_type": "execute_result",
          "data": {
            "text/plain": [
              "['Except as provided in this Section, e ach Party affirms its rights and obligations  Each Party shall provide a system for the examination and registration of trade marks which includes among',\n",
              " \"Neither Party shall adopt or maintain, either on the basis of its entire territory or on 8 For the purposes of this Chapter: “cross -border financial service supplier�  Financial services include the following activities: Insurance and insurance- related services (a) direct . 2 For greater certainty, the Parties understand that an investor “attempts  A Party shall not adopt or maintain, with respect to: (a) an established . Paragraph 1 does not permit suppliers of the services listed in subparagraphs 1( 1 (Definitions) with respect to: (a) insurance of risks relating to  The Parties recognise that promoting cooperation between the Parties and their financial regulatory authorities supports several objectives . (b) In the areas where one of the Parties defers to the regulatory  The framework for regulatory cooperation shall include: (a) without prejudice to each Party's . 18 (Investment and Environment), and Article 13.19 (Corporate Social\",\n",
              " 'Each Party shall accord national treatment to the goods of the other Party in accordance with Article  For the purposes of this Article, if a cost, expense, or value is unknown',\n",
              " 'A Party shall not reject a declaration of origin due to minor errors or discrepancies, such  In this regard, the Parties acknowledge that inadequate fisheries management, fisheries subsidies that contribute to . In relation to subsidies that are not prohibited by paragraph 5(a) or 5  19 Agreement on Port State Measures to Prevent, Deter, and Eliminate Illegal, Un',\n",
              " 'Expressions The Parties affirm their commitment to work together through discussion and by the exchange of',\n",
              " '1. If, as a result of customs duty reduction or elimination, an originating good  If the right to suspend concessions or other obligations has been exercised pursuant to paragraph 7 of',\n",
              " '1. The Parties recognise that a broad range of mechanisms exists to facilitate the acceptance in  The Parties shall endeavour to support data innovation through: (a) collaborating on data -',\n",
              " 'Neither Party shall have recourse to dispute settlement under Chapter 30 (Dispute Settlement)',\n",
              " '1. This Chapter applies to measures of a Party affecting the supply of professional services,  The Parties hereby establish a Professional Services Working Group (Working Group) composed of representatives of . Issues in scope for consideration include: (i) the progressive reduction and removal of  Each Party shall adopt and maintain in its laws and regulations, and practices thereunder, . Each Party shall, in accordance with the fundamental principles of its legal system and without',\n",
              " 'For the purposes of this Chapter, the value of a material is: (a)  22 Each Party shall provide producers of phonograms with the exclusive right to authorise or',\n",
              " 'Each Party shall ensure that, when its state- owned enterprises, state enterprises and designated  Subparagraphs 1(b), 1(c), 2(b) and 2 . (b) that the production and sale of a good by a Party’ 6 (Non - commercial Assistance), the initial capitalisation of a state -owned enterprise',\n",
              " 'For the purposes of Article 4.2 (Origin Criteria) the following goods shall  Subject to paragraphs 3 and 4, each Party shall provide that at least each of the',\n",
              " 'Except as otherwise provided in this Chapter, a good shall be regarded as originating if it  The functions of the Working Group on Rules of Origin and Customs and Trade Facilitation shall . If an authorised representative of the exporter or producer is the signatory, the  If a Party allows for the release of go ods conditioned on a security, it',\n",
              " '1. The Parties affirm their existing rights and obligations with respect to each other under the  In the case of an alleged infringement, each Party shall provide that if the applicant demonstrates . The Parties recognise that each Party retains the right to exercise discretion and to make decisions  The Parties further recognise that each Party may require, through domestic measures, prior informed consent . Cooperation activities that may be undertaken by the Parties include, but are not limited to',\n",
              " '1. Neither Party shall adopt or maintain a measure that is inconsistent with the Import Lic  3 For greater certainty, this subparagraph does not prevent a Party from undertaking targeted consultations with',\n",
              " '1. Each Party shall adopt or maintain measures that allow for the imposition of a penalty 7A-2 Annex, a cosmetic product may include a product that is intended to  Neither Party shall require that a cosmetic product receive marketing authorisation from a regulatory authority in .1 (Definitions – Financial Services); “cryptography” means the',\n",
              " '1. Each Party shall administer its procedures for the allocation and use of scarce resources,  If a Party requires, as a condition for granting marketing approval for a new pharmaceutical product',\n",
              " '1. Neither Party shall apply a customs duty to a good, regardless of its origin  If there is an incident that results in the importing Party modifying or revoking a decision . Measures taken by the importing Party as a consequence of its audit or verification shall be  1. The Joint Committee shall meet within one year of the date of entry into force',\n",
              " 'Electronic Publication of Procurement Notices 1. For covered procurement, notice s Except as provided for in paragraphs 4, 5, 8 and 9 a procuring entity .24 (Joint Committee Consultations), either Party may refer the matter to the  If the Parties are unable to reach agreement on the composition of the panel within 10 days',\n",
              " '1. Within 60 days of the date of entry into force of this Agreement, each  If there is no price paid or payable or if it does not include the value of . 1. Each Party shall give positive consideration to accepting technical regulations of the other Party  Provided that they satisfy the criteria set out in paragraph 5, conditions for access to and']"
            ]
          },
          "metadata": {},
          "execution_count": 43
        }
      ]
    },
    {
      "cell_type": "code",
      "source": [
        "#issue clearly effecting both sets of summaries\n",
        "#therefore edit max-length parameters at both steps\n",
        "l = 0.9\n",
        "summaries_1 = []\n",
        "pre_recursive_summaries_1 = []\n",
        "for t in range(20):\n",
        "  example_classification = articles_df[articles_df[('prob_t' + str(t))] >= l]\n",
        "  example_topic_text = ' '.join(example_classification['Article Text'])\n",
        "  example_text_chunks = summary_chunks(example_topic_text)\n",
        "  inputs = [tokeniser.batch_encode_plus([text],return_tensors = 'pt') for text in example_text_chunks]\n",
        "  summary_ids = [model.generate(i['input_ids'], min_new_tokens = 30, max_new_tokens = 50, early_stopping = True) for i in inputs]\n",
        "  bart_summaries = [tokeniser.decode(ids[0], skip_special_tokens = True) for ids in summary_ids]\n",
        "  single_sum = ' '.join(bart_summaries)\n",
        "  pre_recursive_summaries_1.append(single_sum)\n",
        "  input = tokeniser.batch_encode_plus([single_sum],return_tensors='pt')\n",
        "  summary_id = model.generate(input['input_ids'], min_new_tokens = 10, max_new_tokens = 120, early_stopping=True)\n",
        "  final_sum = tokeniser.decode(summary_id[0], skip_special_tokens=True)\n",
        "  print(str(t)) #print the step in order to keep track of progress\n",
        "  summaries_1.append(final_sum)"
      ],
      "metadata": {
        "colab": {
          "base_uri": "https://localhost:8080/"
        },
        "id": "BJaO5H1h_qvH",
        "outputId": "0920734a-29ec-4220-95f0-6e95bd016d98"
      },
      "execution_count": 54,
      "outputs": [
        {
          "output_type": "stream",
          "name": "stdout",
          "text": [
            "0\n",
            "1\n",
            "2\n",
            "3\n",
            "4\n",
            "5\n",
            "6\n",
            "7\n",
            "8\n",
            "9\n",
            "10\n",
            "11\n",
            "12\n",
            "13\n",
            "14\n",
            "15\n",
            "16\n",
            "17\n",
            "18\n",
            "19\n",
            "['Except as provided in this Section, e ach Party affirms its rights and obligations', 'Neither Party shall adopt or maintain, either on the basis of its entire territory or on', 'Each Party shall accord national treatment to the goods of the other Party in accordance with Article', 'A Party shall not reject a declaration of origin due to minor errors or discrepancies, such', 'Expressions The Parties affirm their commitment to work together through discussion and by the exchange of', '1. If, as a result of customs duty reduction or elimination, an originating good', '1. The Parties recognise that a broad range of mechanisms exists to facilitate the acceptance in', 'Neither Party shall have recourse to dispute settlement under Chapter 30 (Dispute Settlement)', '1. This Chapter applies to measures of a Party affecting the supply of professional services,', 'For the purposes of this Chapter, the value of a material is: (a)', 'Each Party shall ensure that, when its state- owned enterprises, state enterprises and designated', 'For the purposes of Article 4.2 (Origin Criteria) the following goods shall', 'Except as otherwise provided in this Chapter, a good shall be regarded as originating if it', '1. The Parties affirm their existing rights and obligations with respect to each other under the', '1. Neither Party shall adopt or maintain a measure that is inconsistent with the Import Lic', '1. Each Party shall adopt or maintain measures that allow for the imposition of a penalty', '1. Each Party shall administer its procedures for the allocation and use of scarce resources,', '1. Neither Party shall apply a customs duty to a good, regardless of its origin', 'Electronic Publication of Procurement Notices 1. For covered procurement, notice s', '1. Within 60 days of the date of entry into force of this Agreement, each']\n"
          ]
        }
      ]
    },
    {
      "cell_type": "code",
      "source": [
        "summaries_1"
      ],
      "metadata": {
        "colab": {
          "base_uri": "https://localhost:8080/"
        },
        "id": "JgBRJJlZAQA8",
        "outputId": "f8db03f8-44e0-4187-df10-333e718625db"
      },
      "execution_count": 55,
      "outputs": [
        {
          "output_type": "execute_result",
          "data": {
            "text/plain": [
              "['Except as provided in this Section, e ach Party affirms its rights and obligations under Article VI of GATT 1994, the AD Agreement, and the SCM Agreement. 1. Each Party shall issue, prior to the importation of a trade mark, a list of trade marks for examination and registration of trade mark. 2. Each party shall provide a system for the examination and register of trade Marks which includes among other things: (a) communicating to the applicant in writing, which may be by electronic means, the reasons for any refusal to register a trade Mark;',\n",
              " 'Neither Party shall adopt or maintain, either on the basis of its entire territory or on the grounds of the territory of a central, regional or local level of government, a measure that: (a) imposes a limitation on: (i) 8 For the purposes of this Chapter: “cross -border financial service supplier” means a person of a Party that is engaged in the business of supplying a financial service within the territoryof the Party and that seeks to supply or supplies  Financial services include the following activities: Insurance and insurance- related services (a)( direct insurance (including co',\n",
              " 'Each Party shall accord national treatment to the goods of the other Party in accordance with Article III of GATT 1994, and to this end Article III-GATT 1994 is incorporated into and made part of this Agreement, mutatis mutandis  For the purposes of this Article, if a cost, expense, or value is unknown or documentary evidence of the amount of the adjustment is not available, then no adjustment is allowed for that cost, expenses, or or value. 1. A',\n",
              " 'A Party shall not reject a declaration of origin due to minor errors or discrepancies, such as slight discrepancies between documents, omissions of information or typing errors, provided these minor discrepancies or errors do not create doubt as to the originating status of the  In this regard, the Parties acknowledge that inadequate fisheries management, fisheries subsidies that contribute to overfishing and overcapacity, and illegal, unreported, and unregulated ( “IUU” ) fishing 10 can have significant negative impacts on. In relation to subsidies that are not prohibited by paragraph 5(a) or 5(b), and',\n",
              " 'Expressions The Parties affirm their commitment to work together through discussion and by the exchange of information at the WIPO Intergovernmental Committee on Intellectual Property and Genetic Resources, Traditional Knowledge and Folklore. Section B Cooperation Each Party may designate and notify',\n",
              " '1. If, as a result of customs duty reduction or elimination, an originating good of the other Party is being imported into the territory of a Party in such increased quantities, in absolute terms or relative to domestic production, and under such conditions  If the right to suspend concessions or other obligations has been exercised pursuant to paragraph 7 of Article 30.16 (Temporary Remedies for Non- Compliance), or mutually acceptable compensation has been agreed pursuant to section 2 of Article 1 of Article',\n",
              " \"1. The Parties recognise that a broad range of mechanisms exists to facilitate the acceptance in a Party's territory of the results of conformity assessment procedures conducted in the other Party's territories. For example: (a) a Party may agree with the conformity assessment process conducted in its territory. (b) The Parties shall endeavour to support data innovation through: (1) collaborating on data -sharing projects, including projects involving researchers, academics and industry, using regulatory sandboxes as required to demonstrate the benefits of the cross- border transfer of information by\",\n",
              " 'Neither Party shall have recourse to dispute settlement under Chapter 30 (Dispute Settlement) for any matter arising under Section B or C. 1. The Parties recognise the importance of ensuring that the disciplines contained in this Agreement remain relevant to the trade',\n",
              " '1. This Chapter applies to measures of a Party affecting the supply of professional services, including by a covered investment. 3 2. Professional services include accountancy and auditing services, architectural services, engineering services, legal services, and other types  The Parties hereby establish a Professional Services Working Group (Working Group) composed of representatives of each Party5 to facilitate: (a) the achievement of the objectives of this Chapter; and (b) the effective implementation and administration of systems for recognition. Issues in scope for consideration include: (i) the progressive reduction and removal of academic pre - requ',\n",
              " 'For the purposes of this Chapter, the value of a material is: (a) for a material imported by the producer of the good, the price actually paid or payable for the material at the time of importation or other value determined in  22 Each Party shall provide producers of phonograms with the exclusive right to authorise or prohibit: (1) the reproduction in any manner or form, in whole or in part, of their phonograms; (b) the distribution to the',\n",
              " 'Each Party shall ensure that, when its state- owned enterprises, state enterprises and designated monopolies exercise any regulatory, administrative or other governmental authority that the Party has directed or delegated to such entities to carry out, those entities act in a manner consistent with the provisions of the Constitution. Subparagraphs 1(b), 1(c), 2(b) and 2(c) do not preclude a state -owned enterprise or designated monopoly from: (a) purchasing or selling goods or services on different terms or conditions including. (b) that the production and sale of a good by a',\n",
              " 'For the purposes of Article 4.2 (Origin Criteria) the following goods shall be considered as wholly obtained or produced in the territory of one or both of the Parties if they are: (a) a plant, plant good, or  Subject to paragraphs 3 and 4, each Party shall provide that at least each of the following shall be deemed contrary to honest commercial practices: (b) the acquisition of a trade secret without the consent of the trade secret holder, whenever carried out',\n",
              " 'Except as otherwise provided in this Chapter, a good shall be regarded as originating if it is : (a) wholly obtained or produced in the territory of one or both of the Parties, as established in Article 4.3 (Wholly Ob  The functions of the Working Group on Rules of Origin and Customs and Trade Facilitation shall include: (a)( cooperating in the administration and uniform interpretation of this Chapter and Chapter 5 (Customs Procedures and Trade facilitation); (b) monitoring. If an authorised representative of the exporter or producer is the signatory, the declaration of origin must',\n",
              " '1. The Parties affirm their existing rights and obligations with respect to each other under the TRIPS Agreement. 2. The parties recognise the importance of adequate, effective and balanced protection and enforcement of intellectual property rights, while ensuring that measures to enforce  In the case of an alleged infringement, each Party shall provide that if the applicant demonstrates circumstances likely to endanger the recover y of damages, its judicial authorities shall have the authority to order, subject to the Party’s law, the precaution. The Parties recognise that each Party retains the right to exercise discretion and to make decisions regarding: (a',\n",
              " '1. Neither Party shall adopt or maintain a measure that is inconsistent with the Import Licensing Agreement. 2. A Party shall publish on an official government website any new or modified import licensing procedure, including any information that it is required to publish. 3 For greater certainty, this subparagraph does not prevent a Party from undertaking targeted consultations with interested parties under the conditions defined by its relevant rules and procedures. 4 For greater clarity, this paragraph should be implemented consistently with each Party’s obligations',\n",
              " '1. Each Party shall adopt or maintain measures that allow for the imposition of a penalty by a Party’s customs authority for a breach of its customs laws. 2. E ach Party shall ensure that any penalties imposed for breaches of 7A-2 of the Customs Act are proportionate to the amount of the penalty imposed. 3. For example, a cosmetic product may include a product that is intended to be rubbed, poured, sprinkled, sprayed on, or othe rwise applied to the human body including the mucous membrane of the oral cavity and teeth  Neither Party shall',\n",
              " '1. Each Party shall administer its procedures for the allocation and use of scarce resources, including radio spectrum, frequency bands, and rights of way, in an objective, timely, transparent, and non -discriminatory manner. 2. Each  If a Party requires, as a condition for granting marketing approval for a new pharmaceutical product, the submission of undisclosed test or other data concerning the safety or eff icacy or quality of the product, that Party shall not permit third persons, without',\n",
              " '1. Neither Party shall apply a customs duty to a good, regardless of its origin, that re -enters the Party’s territory after that good has been temporarily exported to the territory of the other Party for repair or alteration,  If there is an incident that results in the importing Party modifying or revoking a decision recognising the regional conditions of the exporting Party, the Parties shall cooperate to assess whether the determination can be reinstated. 1. The Parties acknowledge that recognition of. Measures taken by the importing party as a consequence of its audit or verification shall be supported by objective evidence',\n",
              " 'Electronic Publication of Procurement Notices 1. For covered procurement, notice s of intended procurement and notice s s of planned procurement shall be directly accessible by electronic means, free of charge: (a) for central government entities that are engaged in the procurement of te nders, as provided for in paragraphs 4, 5, 8 and 9 a procuring entity shall establish that the final date for the submission of te rders shall not be less than 40 days from the date on which the Parties agree on the composition of the panel. (b) in.24 (J',\n",
              " '1. Within 60 days of the date of entry into force of this Agreement, each Party shall notify the other Party of its existing export licensing procedures. A Party shall be deemed to have complied with this paragraph if it has notified its export licensing  If there is no price paid or payable or if it does not include the value of all materials, the value is to be calculated using one of the following methods: RVC is the regional value content of a good, expressed as a percentage. 1. Each Party shall give positive consideration to accepting technical regulations of the Other Party, even if these']"
            ]
          },
          "metadata": {},
          "execution_count": 55
        }
      ]
    },
    {
      "cell_type": "code",
      "source": [
        "#issue clearly effecting both sets of summaries\n",
        "#therefore edit max-length parameters at both steps\n",
        "l = 0.9\n",
        "summaries_2 = []\n",
        "pre_recursive_summaries_2 = []\n",
        "for t in range(20):\n",
        "  example_classification = articles_df[articles_df[('prob_t' + str(t))] >= l]\n",
        "  example_topic_text = ' '.join(example_classification['Article Text'])\n",
        "  example_text_chunks = summary_chunks(example_topic_text)\n",
        "  inputs = [tokeniser.batch_encode_plus([text],return_tensors = 'pt') for text in example_text_chunks]\n",
        "  summary_ids = [model.generate(i['input_ids'], min_new_tokens = 30, max_new_tokens = 50, early_stopping = True) for i in inputs]\n",
        "  bart_summaries = [tokeniser.decode(ids[0], skip_special_tokens = True) for ids in summary_ids]\n",
        "  single_sum = ' '.join(bart_summaries)\n",
        "  pre_recursive_summaries_2.append(single_sum)\n",
        "  input = tokeniser.batch_encode_plus([single_sum],return_tensors='pt')\n",
        "  summary_id = model.generate(input['input_ids'], min_new_tokens = 10, max_new_tokens = 200, early_stopping=True)\n",
        "  final_sum = tokeniser.decode(summary_id[0], skip_special_tokens=True)\n",
        "  print(str(t)) #print the step in order to keep track of progress\n",
        "  summaries_2.append(final_sum)"
      ],
      "metadata": {
        "colab": {
          "base_uri": "https://localhost:8080/"
        },
        "id": "KBsLbNNy5_6V",
        "outputId": "aab48500-b98b-4c5e-c281-05be82cd52a2"
      },
      "execution_count": 58,
      "outputs": [
        {
          "output_type": "stream",
          "name": "stdout",
          "text": [
            "0\n",
            "1\n",
            "2\n",
            "3\n",
            "4\n",
            "5\n",
            "6\n",
            "7\n",
            "8\n",
            "9\n",
            "10\n",
            "11\n",
            "12\n",
            "13\n",
            "14\n",
            "15\n",
            "16\n",
            "17\n",
            "18\n",
            "19\n"
          ]
        }
      ]
    },
    {
      "cell_type": "code",
      "source": [
        "summaries_2"
      ],
      "metadata": {
        "colab": {
          "base_uri": "https://localhost:8080/"
        },
        "id": "JdQ0gqFO6C0T",
        "outputId": "b8be0a36-8284-42e7-d68f-9060e08a4eb3"
      },
      "execution_count": 59,
      "outputs": [
        {
          "output_type": "execute_result",
          "data": {
            "text/plain": [
              "['Except as provided in this Section, e ach Party affirms its rights and obligations under Article VI of GATT 1994, the AD Agreement, and the SCM Agreement. 1. Each Party shall issue, prior to the importation of a trade mark, a list of trade marks for examination and registration of trade mark. 2. Each party shall provide a system for the examination and register of trade Marks which includes among other things: (a) communicating to the applicant in writing, which may be by electronic means, the reasons for any refusal to register a trade Mark;',\n",
              " 'Neither Party shall adopt or maintain, either on the basis of its entire territory or on the grounds of the territory of a central, regional or local level of government, a measure that: (a) imposes a limitation on: (i) 8 For the purposes of this Chapter: “cross -border financial service supplier” means a person of a Party that is engaged in the business of supplying a financial service within the territoryof the Party and that seeks to supply or supplies  Financial services include the following activities: Insurance and insurance- related services (a)( direct insurance (including co -insurance): (i\" life; (ii) non- life; and (iii) reinsurance and retrocession; (. 2 For greater certainty, the Parties understand that an investor “attempts to make” an investment when that investor has taken concrete action or actions to make an investment, such as channelling resources or capital in order to  A Party shall not',\n",
              " 'Each Party shall accord national treatment to the goods of the other Party in accordance with Article III of GATT 1994, and to this end Article III-GATT 1994 is incorporated into and made part of this Agreement, mutatis mutandis  For the purposes of this Article, if a cost, expense, or value is unknown or documentary evidence of the amount of the adjustment is not available, then no adjustment is allowed for that cost, expenses, or or value. 1. A',\n",
              " 'A Party shall not reject a declaration of origin due to minor errors or discrepancies, such as slight discrepancies between documents, omissions of information or typing errors, provided these minor discrepancies or errors do not create doubt as to the originating status of the  In this regard, the Parties acknowledge that inadequate fisheries management, fisheries subsidies that contribute to overfishing and overcapacity, and illegal, unreported, and unregulated ( “IUU” ) fishing 10 can have significant negative impacts on. In relation to subsidies that are not prohibited by paragraph 5(a) or 5(b), and taking into consideration a Party’s social and developmental priorities, including food security concerns, each Party shall make best efforts to refrain  19 Agreement on Port State Measures to Prevent, Deter, and Eliminate Illegal, Unreported, and Unregulated Fishing done at the Food and Agriculture Organization of the United Nations at Rome on 22 November 2009 (“Port State Measures Agreement�',\n",
              " 'Expressions The Parties affirm their commitment to work together through discussion and by the exchange of information at the WIPO Intergovernmental Committee on Intellectual Property and Genetic Resources, Traditional Knowledge and Folklore. Section B Cooperation Each Party may designate and notify',\n",
              " '1. If, as a result of customs duty reduction or elimination, an originating good of the other Party is being imported into the territory of a Party in such increased quantities, in absolute terms or relative to domestic production, and under such conditions  If the right to suspend concessions or other obligations has been exercised pursuant to paragraph 7 of Article 30.16 (Temporary Remedies for Non- Compliance), or mutually acceptable compensation has been agreed pursuant to section 2 of Article 1 of Article',\n",
              " \"1. The Parties recognise that a broad range of mechanisms exists to facilitate the acceptance in a Party's territory of the results of conformity assessment procedures conducted in the other Party's territories. For example: (a) a Party may agree with the conformity assessment process conducted in its territory. (b) The Parties shall endeavour to support data innovation through: (1) collaborating on data -sharing projects, including projects involving researchers, academics and industry, using regulatory sandboxes as required to demonstrate the benefits of the cross- border transfer of information by\",\n",
              " 'Neither Party shall have recourse to dispute settlement under Chapter 30 (Dispute Settlement) for any matter arising under Section B or C. 1. The Parties recognise the importance of ensuring that the disciplines contained in this Agreement remain relevant to the trade',\n",
              " '1. This Chapter applies to measures of a Party affecting the supply of professional services, including by a covered investment. 3 2. Professional services include accountancy and auditing services, architectural services, engineering services, legal services, and other types  The Parties hereby establish a Professional Services Working Group (Working Group) composed of representatives of each Party5 to facilitate: (a) the achievement of the objectives of this Chapter; and (b) the effective implementation and administration of systems for recognition. Issues in scope for consideration include: (i) the progressive reduction and removal of academic pre - requisites and additional practical legal training, particularly for experienced lawyers; (ii) post- qualification supervision; (iii) the improvement in the quality of legal services; (iv) the implementation of the provisions of the ILO Declaration on the right to collective bargaining; (v) the establishment of a legal system for recognition; (vi) the promotion of the rights of the legal profession; and  Each',\n",
              " 'For the purposes of this Chapter, the value of a material is: (a) for a material imported by the producer of the good, the price actually paid or payable for the material at the time of importation or other value determined in  22 Each Party shall provide producers of phonograms with the exclusive right to authorise or prohibit: (1) the reproduction in any manner or form, in whole or in part, of their phonograms; (b) the distribution to the',\n",
              " 'Each Party shall ensure that, when its state- owned enterprises, state enterprises and designated monopolies exercise any regulatory, administrative or other governmental authority that the Party has directed or delegated to such entities to carry out, those entities act in a manner that is consistent with the provisions of the Constitution. Subparagraphs 1(b), 1(c), 2(b) and 2(c) do not preclude a state -owned enterprise or designated monopoly from: (a) purchasing or selling goods or services on different terms or conditions including. (b) that the production and sale of a good by a Party’s state - owned enterprise that has received the non- commercial assistance displaces or impedes from: a (i) the market of the other Party sales of goods and services, (ii) the initial capitalisation of a state-owned enterprise, or the acquisition by a State -owned Enterprise of a controlling interest in an enterprise, that is principally engaged in the supply of',\n",
              " 'For the purposes of Article 4.2 (Origin Criteria) the following goods shall be considered as wholly obtained or produced in the territory of one or both of the Parties if they are: (a) a plant, plant good, or  Subject to paragraphs 3 and 4, each Party shall provide that at least each of the following shall be deemed contrary to honest commercial practices: (b) the acquisition of a trade secret without the consent of the trade secret holder, whenever carried out',\n",
              " 'Except as otherwise provided in this Chapter, a good shall be regarded as originating if it is : (a) wholly obtained or produced in the territory of one or both of the Parties, as established in Article 4.3 (Wholly Ob  The functions of the Working Group on Rules of Origin and Customs and Trade Facilitation shall include: (a)( cooperating in the administration and uniform interpretation of this Chapter and Chapter 5 (Customs Procedures and Trade facilitation); (b) monitoring. If an authorised representative of the exporter or producer is the signatory, the declaration of origin must be signed, dated and accompanied by the following statement: I (the authorised representative/producer) declare that the goods described in this  If a Party allows for the release of go ods conditioned on a security, it shall adopt or maintain procedures that: (1) ensure that the amount of the security is no greater than that required to ensure that obligations arising from the import',\n",
              " '1. The Parties affirm their existing rights and obligations with respect to each other under the TRIPS Agreement. 2. The parties recognise the importance of adequate, effective and balanced protection and enforcement of intellectual property rights, while ensuring that measures to enforce  In the case of an alleged infringement, each Party shall provide that if the applicant demonstrates circumstances likely to endanger the recover y of damages, its judicial authorities shall have the authority to order, subject to the Party’s law, the precaution. The Parties recognise that each Party retains the right to exercise discretion and to make decisions regarding: (a) investigatory, prosecutorial, regulatory, and compliance matters; and (b) the allocation of environmental enforcement resources. 3. In the event of an environmental enforcement resource being used for environmental enforcement purposes, each party shall require, through domestic measures, prior informed consent to access those resources in accordance with domestic measures and, where such access is granted, the establishment of mutually agreed terms, including with respect',\n",
              " '1. Neither Party shall adopt or maintain a measure that is inconsistent with the Import Licensing Agreement. 2. A Party shall publish on an official government website any new or modified import licensing procedure, including any information that it is required to publish. 3 For greater certainty, this subparagraph does not prevent a Party from undertaking targeted consultations with interested parties under the conditions defined by its relevant rules and procedures. 4 For greater clarity, this paragraph should be implemented consistently with each Party’s obligations',\n",
              " '1. Each Party shall adopt or maintain measures that allow for the imposition of a penalty by a Party’s customs authority for a breach of its customs laws. 2. E ach Party shall ensure that any penalties imposed for breaches of 7A-2 of the Customs Act are proportionate to the amount of the penalty imposed. 3. For example, a cosmetic product may include a product that is intended to be rubbed, poured, sprinkled, sprayed on, or othe rwise applied to the human body including the mucous membrane of the oral cavity and teeth  Neither Party shall require that a cosmetic Product receive marketing authorisation from a regulatory authority in the country of manufacture as a condition for the product receiving marketing authorised from the Party. For greater certainty, this provision does not prohibit a Party from accepting.1 (Definitions – Financial Services); “cryptography” means the principles, means or methods for the transformation of data in order to conceal or disguise its content,',\n",
              " '1. Each Party shall administer its procedures for the allocation and use of scarce resources, including radio spectrum, frequency bands, and rights of way, in an objective, timely, transparent, and non -discriminatory manner. 2. Each  If a Party requires, as a condition for granting marketing approval for a new pharmaceutical product, the submission of undisclosed test or other data concerning the safety or eff icacy or quality of the product, that Party shall not permit third persons, without',\n",
              " '1. Neither Party shall apply a customs duty to a good, regardless of its origin, that re -enters the Party’s territory after that good has been temporarily exported to the territory of the other Party for repair or alteration,  If there is an incident that results in the importing Party modifying or revoking a decision recognising the regional conditions of the exporting Party, the Parties shall cooperate to assess whether the determination can be reinstated. 1. The Parties acknowledge that recognition of. Measures taken by the importing party as a consequence of its audit or verification shall be supported by objective evidence, take into account the importing parties’ knowledge of, relevant experience with, and confidence in, the exporting party, and shall 1. The Joint Committee shall meet within one year of the date of entry into force of this Agreement and thereafter as the Parties may decide, including as necessary t o fulfil its functions under Article 29.2 (Functions of the Committee).',\n",
              " 'Electronic Publication of Procurement Notices 1. For covered procurement, notice s of intended procurement and notice s s of planned procurement shall be directly accessible by electronic means, free of charge: (a) for central government entities that are engaged in the procurement of te nders, as provided for in paragraphs 4, 5, 8 and 9 a procuring entity shall establish that the final date for the submission of te rders shall not be less than 40 days from the date on which the Parties agree on the composition of the panel. (b) in.24 (Joint Committee Consultations), either Party may refer the matter to the relevant Ministers of the Parties by delivering a written request to the contact point of the other Party. The re levant Ministers shall seek to resolve the matter.  If the Parties are unable to reach agreement on the structure of the Panel within 10 days of receipt of the request referred to in paragraph 3, a Party may, at any time',\n",
              " '1. Within 60 days of the date of entry into force of this Agreement, each Party shall notify the other Party of its existing export licensing procedures. A Party shall be deemed to have complied with this paragraph if it has notified its export licensing  If there is no price paid or payable or if it does not include the value of all materials, the value is to be calculated using one of the following methods: RVC is the regional value content of a good, expressed as a percentage. 1. Each Party shall give positive consideration to accepting technical regulations of the Other Party, even if these regulations differ from its own, provided that it is satisfied that these regulations adequately fulfil the objectives of its own regulations. 2. Where a  Provided that they satisfy the criteria set out in paragraph 5, conditions for access to and use of public telecommunications networks or services may include: (a) a requirement to use specified technical interfaces, including interface protocols, for interconnection with those networks and (b)']"
            ]
          },
          "metadata": {},
          "execution_count": 59
        }
      ]
    },
    {
      "cell_type": "markdown",
      "source": [
        "This isn't perfect but not because of any limit on max lengths. The text output appears not to be fluent enough to finish all sentences in a gramatically correct way."
      ],
      "metadata": {
        "id": "UHmr4ikjYywd"
      }
    },
    {
      "cell_type": "markdown",
      "source": [
        "# Generating summaries"
      ],
      "metadata": {
        "id": "MKb-4pw6ifMF"
      }
    },
    {
      "cell_type": "code",
      "source": [
        "#output results to be used\n",
        "with open('summaries.pkl', 'wb') as f:\n",
        "    pickle.dump(summaries_2, f)\n",
        "with open('pre_recursive_summaries.pkl', 'wb') as f:\n",
        "    pickle.dump(pre_recursive_summaries_2, f)"
      ],
      "metadata": {
        "id": "M3B_JV2uigal"
      },
      "execution_count": 63,
      "outputs": []
    }
  ]
}