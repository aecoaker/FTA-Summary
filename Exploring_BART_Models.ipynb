{
  "nbformat": 4,
  "nbformat_minor": 0,
  "metadata": {
    "colab": {
      "provenance": [],
      "authorship_tag": "ABX9TyOUzjZelChtDG/DF4/AIkw8",
      "include_colab_link": true
    },
    "kernelspec": {
      "name": "python3",
      "display_name": "Python 3"
    },
    "language_info": {
      "name": "python"
    }
  },
  "cells": [
    {
      "cell_type": "markdown",
      "metadata": {
        "id": "view-in-github",
        "colab_type": "text"
      },
      "source": [
        "<a href=\"https://colab.research.google.com/github/aecoaker/FTA-Summary/blob/master/Exploring_BART_Models.ipynb\" target=\"_parent\"><img src=\"https://colab.research.google.com/assets/colab-badge.svg\" alt=\"Open In Colab\"/></a>"
      ]
    },
    {
      "cell_type": "markdown",
      "source": [
        "# Exploring BART Models to find best Pre-Trained Option"
      ],
      "metadata": {
        "id": "QQ5omMGUjzeP"
      }
    },
    {
      "cell_type": "markdown",
      "source": [
        "## Example of work prediction"
      ],
      "metadata": {
        "id": "HyfleaffDXO6"
      }
    },
    {
      "cell_type": "code",
      "source": [
        "import random\n",
        "from transformers import BartForConditionalGeneration, BartTokenizer, BartConfig\n",
        "# load a pre-trained model and tokenizer 'bart-large-cnn'\n",
        "tokeniser = BartTokenizer.from_pretrained('facebook/bart-base')\n",
        "model = BartForConditionalGeneration.from_pretrained('facebook/bart-base')"
      ],
      "metadata": {
        "id": "Btv0UJ7Lj0tE"
      },
      "execution_count": 50,
      "outputs": []
    },
    {
      "cell_type": "code",
      "source": [
        "text = \"There is nothing quite like a sunny day to remind someone of their own mortality.\""
      ],
      "metadata": {
        "id": "XPUeaTOuoRqM"
      },
      "execution_count": 6,
      "outputs": []
    },
    {
      "cell_type": "code",
      "source": [
        "#use bart for summary of the sentence to check it all works\n",
        "inputs = tokeniser.batch_encode_plus([text],return_tensors='pt')\n",
        "summary_ids = model.generate(inputs['input_ids'], early_stopping=True)\n",
        "bart_summaries = tokeniser.decode(summary_ids[0], skip_special_tokens=True)\n",
        "print(bart_summaries)"
      ],
      "metadata": {
        "colab": {
          "base_uri": "https://localhost:8080/"
        },
        "id": "KgRY3Rt6pO5k",
        "outputId": "2f25c673-9a9d-4f01-8aa2-1af3faa5c220"
      },
      "execution_count": 11,
      "outputs": [
        {
          "output_type": "stream",
          "name": "stderr",
          "text": [
            "/usr/local/lib/python3.10/dist-packages/transformers/generation/utils.py:1346: UserWarning: Using `max_length`'s default (142) to control the generation length. This behaviour is deprecated and will be removed from the config in v5 of Transformers -- we recommend using `max_new_tokens` to control the maximum length of the generation.\n",
            "  warnings.warn(\n"
          ]
        },
        {
          "output_type": "stream",
          "name": "stdout",
          "text": [
            "There is nothing quite like a sunny day to remind someone of their own mortality. There is also nothing like a sun-soaked beach to remind you that you are not immortal. There are no guarantees in life, but there are some things that can be learned from the sun.\n"
          ]
        }
      ]
    },
    {
      "cell_type": "code",
      "source": [
        "text = \"There is nothing quite like a sunny <mask> to remind someone of their own mortality.\""
      ],
      "metadata": {
        "id": "l_nkeJ-KDc01"
      },
      "execution_count": 32,
      "outputs": []
    },
    {
      "cell_type": "code",
      "source": [
        "input_ids = tokeniser([text], return_tensors=\"pt\")[\"input_ids\"]\n",
        "logits = model(input_ids).logits"
      ],
      "metadata": {
        "id": "kDZ6OSt9-P_5"
      },
      "execution_count": 33,
      "outputs": []
    },
    {
      "cell_type": "code",
      "source": [
        "input_ids[0]"
      ],
      "metadata": {
        "colab": {
          "base_uri": "https://localhost:8080/"
        },
        "id": "gutSvmeOERs3",
        "outputId": "96341b59-a39a-4948-f6d2-85e4338d473c"
      },
      "execution_count": 47,
      "outputs": [
        {
          "output_type": "execute_result",
          "data": {
            "text/plain": [
              "tensor([    0,   970,    16,  1085,  1341,   101,    10,  5419, 50264,     7,\n",
              "         8736,   951,     9,    49,   308, 15812,     4,     2])"
            ]
          },
          "metadata": {},
          "execution_count": 47
        }
      ]
    },
    {
      "cell_type": "code",
      "source": [
        "text = \"<mask>\"\n",
        "input_ids = tokeniser([text], return_tensors=\"pt\")[\"input_ids\"]\n",
        "logits = model(input_ids).logits\n",
        "input_ids[0]"
      ],
      "metadata": {
        "colab": {
          "base_uri": "https://localhost:8080/"
        },
        "id": "YlkyybPxG3wM",
        "outputId": "d5009649-caa8-4b62-9aaf-4fae49085718"
      },
      "execution_count": 73,
      "outputs": [
        {
          "output_type": "execute_result",
          "data": {
            "text/plain": [
              "tensor([    0, 50264,     2])"
            ]
          },
          "metadata": {},
          "execution_count": 73
        }
      ]
    },
    {
      "cell_type": "code",
      "source": [
        "input_ids[0][1] = 2"
      ],
      "metadata": {
        "id": "s86O5yWwHiAl"
      },
      "execution_count": 75,
      "outputs": []
    },
    {
      "cell_type": "code",
      "source": [
        "input_ids"
      ],
      "metadata": {
        "colab": {
          "base_uri": "https://localhost:8080/"
        },
        "id": "nTNH7tRbHxCP",
        "outputId": "0791981c-9633-4a32-c44b-8758fb3829be"
      },
      "execution_count": 76,
      "outputs": [
        {
          "output_type": "execute_result",
          "data": {
            "text/plain": [
              "tensor([[0, 2, 2]])"
            ]
          },
          "metadata": {},
          "execution_count": 76
        }
      ]
    },
    {
      "cell_type": "code",
      "source": [
        "masked_index = (input_ids[0] == tokenizer.mask_token_id).nonzero().item()\n",
        "probs = logits[0, masked_index].softmax(dim=0)\n",
        "values, predictions = probs.topk(5)"
      ],
      "metadata": {
        "id": "NCgQMiul-Rzf"
      },
      "execution_count": 39,
      "outputs": []
    },
    {
      "cell_type": "code",
      "source": [
        "tokenizer.decode(predictions).split()"
      ],
      "metadata": {
        "colab": {
          "base_uri": "https://localhost:8080/"
        },
        "id": "uez1WvXv-TBB",
        "outputId": "ad0fb8cd-054f-4e33-f646-2801c9fbd2a4"
      },
      "execution_count": 40,
      "outputs": [
        {
          "output_type": "execute_result",
          "data": {
            "text/plain": [
              "['day,', 'morning', 'moment', 'afternoon']"
            ]
          },
          "metadata": {},
          "execution_count": 40
        }
      ]
    },
    {
      "cell_type": "code",
      "source": [
        "values"
      ],
      "metadata": {
        "colab": {
          "base_uri": "https://localhost:8080/"
        },
        "id": "KBYhxAbN_pv_",
        "outputId": "8eb2ef12-223c-41d7-a12f-c1499a7a71fe"
      },
      "execution_count": 41,
      "outputs": [
        {
          "output_type": "execute_result",
          "data": {
            "text/plain": [
              "tensor([0.2780, 0.1116, 0.0756, 0.0548, 0.0384], grad_fn=<TopkBackward0>)"
            ]
          },
          "metadata": {},
          "execution_count": 41
        }
      ]
    },
    {
      "cell_type": "markdown",
      "source": [
        "## Writing this into a function that can be used for assessment"
      ],
      "metadata": {
        "id": "OD9iSzaCDqqx"
      }
    },
    {
      "cell_type": "code",
      "source": [
        "def is_pred_good(text, model = 'facebook/bart-base'):\n",
        "  #read in chosen model\n",
        "  tokeniser = BartTokenizer.from_pretrained(model)\n",
        "  model = BartForConditionalGeneration.from_pretrained(model)\n",
        "  #tokenise text, sample from it, turn those to masks and predict them\n",
        "  input_ids = tokeniser([text], return_tensors=\"pt\")[\"input_ids\"]\n",
        "  n = len(input_ids[0])\n",
        "  n_masks = int(n/10)\n",
        "  masks_sample = random.sample(range(1, n), n_masks)\n",
        "  for i in range(n):\n",
        "    \n",
        "\n",
        "  logits = model(input_ids).logits\n",
        "  masked_index = (input_ids[0] == tokenizer.mask_token_id).nonzero().item()\n",
        "  probs = logits[0, masked_index].softmax(dim=0)\n",
        "  values, predictions = probs.topk(5)\n",
        "  return tokenizer.decode(predictions).split()"
      ],
      "metadata": {
        "id": "Yv_YvIHVDuGb"
      },
      "execution_count": 42,
      "outputs": []
    },
    {
      "cell_type": "code",
      "source": [
        "is_pred_good(text)"
      ],
      "metadata": {
        "colab": {
          "base_uri": "https://localhost:8080/"
        },
        "id": "omQ8VE9FELxB",
        "outputId": "9d479048-1d90-4ab6-af42-53ce674e36a0"
      },
      "execution_count": 43,
      "outputs": [
        {
          "output_type": "execute_result",
          "data": {
            "text/plain": [
              "['day,', 'morning', 'moment', 'afternoon']"
            ]
          },
          "metadata": {},
          "execution_count": 43
        }
      ]
    },
    {
      "cell_type": "code",
      "source": [
        "int(5.9)"
      ],
      "metadata": {
        "colab": {
          "base_uri": "https://localhost:8080/"
        },
        "id": "26Flxnv5E3LE",
        "outputId": "bb84fd86-745c-4877-b204-5ab52f3753a0"
      },
      "execution_count": 49,
      "outputs": [
        {
          "output_type": "execute_result",
          "data": {
            "text/plain": [
              "5"
            ]
          },
          "metadata": {},
          "execution_count": 49
        }
      ]
    }
  ]
}